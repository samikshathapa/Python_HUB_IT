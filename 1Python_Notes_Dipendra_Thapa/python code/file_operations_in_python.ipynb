{
 "cells": [
  {
   "cell_type": "markdown",
   "metadata": {},
   "source": [
    "## File I/O operations\n",
    "\n",
    "* Objectives:\n",
    "\n",
    "    1. Understand the principles of files and file systems, in order to open files for reading or writing.\n",
    "    \n",
    "    2. Create programs that can read data from or write data to a plain text file.\n",
    "    \n",
    "    3. Create programs that can read or write JSON data.\n",
    "\n",
    "    4. Create programs that can read or write CSV data."
   ]
  },
  {
   "cell_type": "markdown",
   "metadata": {},
   "source": [
    "### Understanding Files and File Systems\n",
    "\n",
    "* A file is a collection of data stored on a disk. \n",
    "\n",
    "* Files can be of various types, such as text files, binary files, JSON files, CSV files, etc. \n",
    "\n",
    "* Each file is identified by its filename and usually has a specific extension (e.g., .txt, .json, .csv)."
   ]
  },
  {
   "cell_type": "markdown",
   "metadata": {},
   "source": [
    "Opening Files\n",
    "\n",
    "* In Python, you can open files using the open() function, which returns a file object. \n",
    "\n",
    "* The open() function requires at least one argument: the name of the file. You can also specify the mode in which the file should be opened:\n",
    "\n",
    "    * 'r' for reading (default)\n",
    "\n",
    "    * 'w' for writing (creates a new file or truncates an existing file)\n",
    "\n",
    "    * 'a' for appending (adds data to the end of the file)\n",
    "\n",
    "    * 'b' for binary mode\n",
    "    \n",
    "    * 't' for text mode (default)\n",
    "    \n",
    "    * '+' for updating (reading and writing)\n"
   ]
  },
  {
   "cell_type": "markdown",
   "metadata": {},
   "source": [
    "### I/O Operations on Plain Text File"
   ]
  },
  {
   "cell_type": "markdown",
   "metadata": {},
   "source": [
    "Reading from a Plain Text File\n",
    "\n",
    "* We can read a text file using methods like read(), readline(), or readlines()."
   ]
  },
  {
   "cell_type": "code",
   "execution_count": 11,
   "metadata": {},
   "outputs": [
    {
     "name": "stdout",
     "output_type": "stream",
     "text": [
      "\n",
      "content with read:  Hello World!\n",
      "Welcome to Python Programming Session\n"
     ]
    }
   ],
   "source": [
    "# Opening a file for reading\n",
    "file = open('../data_files/example.txt', 'r')\n",
    "\n",
    "# Reading the contents\n",
    "content_with_read = file.read()\n",
    "# content_with_readline = file.readline()\n",
    "# content_with_readlines = file.readlines()\n",
    "\n",
    "print(\"\\ncontent with read: \", content_with_read)\n",
    "# print(\"\\ncontent with readline: \", content_with_readline)\n",
    "# print(\"\\ncontent with readlines: \", content_with_readlines)\n",
    "\n",
    "# Closing the file\n",
    "file.close()"
   ]
  },
  {
   "cell_type": "markdown",
   "metadata": {},
   "source": [
    "Using context manager to open a file"
   ]
  },
  {
   "cell_type": "code",
   "execution_count": 5,
   "metadata": {},
   "outputs": [
    {
     "name": "stdout",
     "output_type": "stream",
     "text": [
      "Hello World!\n",
      "Welcome to Python Programming Session\n"
     ]
    }
   ],
   "source": [
    "# When we open a file with context manager, we don't need to close it explicitly\n",
    "with open('../data_files/example.txt', 'r') as file:\n",
    "    content = file.read()\n",
    "    print(content)"
   ]
  },
  {
   "cell_type": "markdown",
   "metadata": {},
   "source": [
    "Writing to a Plain Text File\n",
    "\n",
    "* We can write to a text file using the write() method."
   ]
  },
  {
   "cell_type": "code",
   "execution_count": 15,
   "metadata": {},
   "outputs": [],
   "source": [
    "# Using a context manager to open the file in write mode\n",
    "# This will override the contents of the file if the file already exits\n",
    "# Otherwise, it will create a new file\n",
    "with open('../data_files/example.txt', 'w') as file:\n",
    "    file.write(\"Hello, Everyone!\\n\")\n",
    "    file.write(\"I am learning Python Programming.\")"
   ]
  },
  {
   "cell_type": "code",
   "execution_count": 16,
   "metadata": {},
   "outputs": [],
   "source": [
    "# Writing file in append mode\n",
    "with open('../data_files/example.txt', 'a') as file:\n",
    "    file.write(\"Learning Python Programming is fun.\")"
   ]
  },
  {
   "cell_type": "markdown",
   "metadata": {},
   "source": [
    "### I/O Operations on JSON File\n",
    "\n",
    "* JSON (JavaScript Object Notation) is a lightweight **data interchange format**. \n",
    "\n",
    "* Python provides the json module to work with JSON data.\n",
    "\n",
    "* It is similar to python dictionary but not same.\n",
    "\n",
    "* JSON uses double quotes for strings and keys whereas in python dictionary we can use single or double quote."
   ]
  },
  {
   "cell_type": "markdown",
   "metadata": {},
   "source": [
    "Writing to a JSON File\n"
   ]
  },
  {
   "cell_type": "code",
   "execution_count": 20,
   "metadata": {},
   "outputs": [],
   "source": [
    "# We need json module to read and write JSON files\n",
    "import json\n",
    "\n",
    "# Sample data\n",
    "data = {\n",
    "    \"name\": \"Ram\",\n",
    "    \"age\": 30,\n",
    "    \"city\": \"Bhaktapur\"\n",
    "}\n",
    "\n",
    "# Writing JSON Object to a file\n",
    "with open('../data_files/data.json', 'w') as file:\n",
    "    json.dump(data, file, indent=4)\n"
   ]
  },
  {
   "cell_type": "markdown",
   "metadata": {},
   "source": [
    "Reading from JSON File"
   ]
  },
  {
   "cell_type": "code",
   "execution_count": 22,
   "metadata": {},
   "outputs": [
    {
     "name": "stdout",
     "output_type": "stream",
     "text": [
      "{'name': 'Ram', 'age': 30, 'city': 'Bhaktapur'}\n"
     ]
    }
   ],
   "source": [
    "import json\n",
    "\n",
    "# Reading JSON from a file\n",
    "with open('../data_files/data.json', 'r') as file:\n",
    "    data = json.load(file)\n",
    "    print(data)"
   ]
  },
  {
   "cell_type": "markdown",
   "metadata": {},
   "source": [
    "Accessing Elements of JSON Object or Parsing JSON Object"
   ]
  },
  {
   "cell_type": "code",
   "execution_count": 26,
   "metadata": {},
   "outputs": [
    {
     "name": "stdout",
     "output_type": "stream",
     "text": [
      "<class 'dict'>\n",
      "Ram\n",
      "Bhaktapur\n",
      "30\n"
     ]
    }
   ],
   "source": [
    "print(type(data))\n",
    "print(data[\"name\"])\n",
    "print(data[\"city\"])\n",
    "print(data[\"age\"])"
   ]
  },
  {
   "cell_type": "markdown",
   "metadata": {},
   "source": [
    "### I/O Operations on CSV File\n",
    "\n",
    "* CSV (Comma-Separated Values) files are commonly used for storing tabular data. \n",
    "\n",
    "* Python provides the csv module to work with CSV files."
   ]
  },
  {
   "cell_type": "markdown",
   "metadata": {},
   "source": [
    "Writing CSV Data to CSV File"
   ]
  },
  {
   "cell_type": "code",
   "execution_count": 31,
   "metadata": {},
   "outputs": [],
   "source": [
    "# We need to use csv module to read and write CSV files\n",
    "import csv\n",
    "\n",
    "# Sample data\n",
    "csv_data = [\n",
    "    ['Name', 'Age', 'City'],\n",
    "    ['Ram', '36', 'Bhaktapur'],\n",
    "    ['Sita', '25', 'Kathmandu'],\n",
    "    ['Laxman', '35', 'Butwal']\n",
    "]\n",
    "\n",
    "# Writing to a CSV file\n",
    "with open('../data_files/data.csv', 'w') as file:\n",
    "    writer = csv.writer(file)\n",
    "    writer.writerows(csv_data)"
   ]
  },
  {
   "cell_type": "markdown",
   "metadata": {},
   "source": [
    "Readint CSV File"
   ]
  },
  {
   "cell_type": "code",
   "execution_count": 33,
   "metadata": {},
   "outputs": [
    {
     "name": "stdout",
     "output_type": "stream",
     "text": [
      "['Name', 'Age', 'City']\n",
      "['Ram', '36', 'Bhaktapur']\n",
      "['Sita', '25', 'Kathmandu']\n",
      "['Laxman', '35', 'Butwal']\n"
     ]
    }
   ],
   "source": [
    "import csv\n",
    "\n",
    "# Reading a CSV file\n",
    "with open('../data_files/data.csv', 'r') as file:\n",
    "    reader = csv.reader(file)\n",
    "    for row in reader:\n",
    "        print(row)"
   ]
  }
 ],
 "metadata": {
  "kernelspec": {
   "display_name": "Python 3",
   "language": "python",
   "name": "python3"
  },
  "language_info": {
   "codemirror_mode": {
    "name": "ipython",
    "version": 3
   },
   "file_extension": ".py",
   "mimetype": "text/x-python",
   "name": "python",
   "nbconvert_exporter": "python",
   "pygments_lexer": "ipython3",
   "version": "3.8.10"
  }
 },
 "nbformat": 4,
 "nbformat_minor": 2
}
