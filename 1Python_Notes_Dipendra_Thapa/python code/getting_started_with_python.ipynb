{
 "cells": [
  {
   "cell_type": "markdown",
   "metadata": {},
   "source": [
    "# Intermediate Python Session\n",
    "Python is a high-level, interpreted programming language known for its simplicity and readability.\n",
    "\n",
    "Key features:\n",
    "* Simple and Readable Syntax\n",
    "* Interpreted Language\n",
    "* Dynamically Typed\n",
    "* Versatile and Portable\n",
    "* Extensive Standard Library and Ecosystem\n",
    "* Community and Support\n",
    "\n",
    "Applications:\n",
    "* Web Development\n",
    "* Data Science and Machine Learning\n",
    "* Automation and Scripting\n",
    "* Scientific Computing\n",
    "* Game Development\n",
    "* Embedded Systems\n",
    "\n",
    "<div>\n",
    "<img src=\"../assets/python-application.png\" width=\"800\"/>\n",
    "</div>"
   ]
  },
  {
   "cell_type": "markdown",
   "metadata": {},
   "source": [
    "## Lesson 1: Getting Started with Python\n",
    "\n",
    "* Objectives:\n",
    "\n",
    "    1. Install the python from [python.org](https://www.python.org/downloads/)\n",
    "\n",
    "    2. Install vs-code from [here](https://code.visualstudio.com/download)\n",
    "\n",
    "    3. Basic syntax, variables, and data types\n",
    "    \n",
    "    4. Input and output functions"
   ]
  },
  {
   "cell_type": "code",
   "execution_count": 1,
   "metadata": {},
   "outputs": [
    {
     "name": "stdout",
     "output_type": "stream",
     "text": [
      "Python 3.10.10\n"
     ]
    }
   ],
   "source": [
    "# Check if python is installed\n",
    "!python --version"
   ]
  },
  {
   "cell_type": "code",
   "execution_count": 2,
   "metadata": {},
   "outputs": [
    {
     "name": "stdout",
     "output_type": "stream",
     "text": [
      "Hello, World! from Python\n"
     ]
    }
   ],
   "source": [
    "# Hello world from Python\n",
    "print(\"Hello, World! from Python\")"
   ]
  },
  {
   "cell_type": "markdown",
   "metadata": {},
   "source": [
    "### Comments in Python\n",
    "* Comments are non-executable part of python program which are used to explain the program.\n",
    "\n",
    "* Hash i.e. # is used for single line comment.\n",
    "\n",
    "* Triple quotes either (\"\"\" \"\"\") or (''' ''') are used for multi-line comments."
   ]
  },
  {
   "cell_type": "code",
   "execution_count": 3,
   "metadata": {},
   "outputs": [
    {
     "name": "stdout",
     "output_type": "stream",
     "text": [
      "Hello, World!\n"
     ]
    }
   ],
   "source": [
    "# This is single line comment\n",
    "\n",
    "# This will not be executed\n",
    "\n",
    "print(\"Hello, World!\")"
   ]
  },
  {
   "cell_type": "code",
   "execution_count": 4,
   "metadata": {},
   "outputs": [
    {
     "name": "stdout",
     "output_type": "stream",
     "text": [
      "Hello, World!\n"
     ]
    }
   ],
   "source": [
    "\"\"\" \n",
    "This is multiline comment.\n",
    "This will be used to explain the code section.\n",
    "\"\"\"\n",
    "print(\"Hello, World!\")"
   ]
  },
  {
   "cell_type": "code",
   "execution_count": 5,
   "metadata": {},
   "outputs": [
    {
     "name": "stdout",
     "output_type": "stream",
     "text": [
      "Hello, World!\n"
     ]
    }
   ],
   "source": [
    "'''\n",
    "This is also multiline comment.\n",
    "This will be used to explain the code section.\n",
    "I am printing Hello World.\n",
    "'''\n",
    "print(\"Hello, World!\")"
   ]
  },
  {
   "cell_type": "markdown",
   "metadata": {},
   "source": [
    "### Variables"
   ]
  },
  {
   "cell_type": "markdown",
   "metadata": {},
   "source": [
    "* Variables: Variables in Python are used to store data. Python is dynamically typed, so you don't need to declare the type of a variable.\n",
    "\n",
    "* Variable Naming: Variable names can contain letters, numbers, and underscores, but cannot start with a number.\n",
    "\n",
    "* Case Sensitivity: Variable names are case-sensitive."
   ]
  },
  {
   "cell_type": "code",
   "execution_count": 6,
   "metadata": {},
   "outputs": [
    {
     "name": "stdout",
     "output_type": "stream",
     "text": [
      "10\n",
      "<class 'int'>\n"
     ]
    }
   ],
   "source": [
    "# Variable declaration and dynamic typing\n",
    "x = 10\n",
    "print(x)\n",
    "\n",
    "# type method is used to get the type of the variable\n",
    "print(type(x))"
   ]
  },
  {
   "cell_type": "code",
   "execution_count": 7,
   "metadata": {},
   "outputs": [
    {
     "name": "stdout",
     "output_type": "stream",
     "text": [
      "Hello, World!\n",
      "<class 'str'>\n"
     ]
    }
   ],
   "source": [
    "# Dynamic typing\n",
    "y = \"Hello, World!\"\n",
    "print(y)\n",
    "print(type(y))"
   ]
  },
  {
   "cell_type": "code",
   "execution_count": 8,
   "metadata": {},
   "outputs": [
    {
     "name": "stdout",
     "output_type": "stream",
     "text": [
      "10\n",
      "20\n"
     ]
    }
   ],
   "source": [
    "# Case sensitive\n",
    "myVar = 10\n",
    "MyVar =20\n",
    "print(myVar)\n",
    "print(MyVar)"
   ]
  },
  {
   "cell_type": "markdown",
   "metadata": {},
   "source": [
    "### Python Datatypes\n",
    "\n",
    "<div>\n",
    "<img src=\"../assets/python-datatypes.png\" width=\"800\"/>\n",
    "</div>\n",
    "\n",
    "* We will learn numeric and boolean data types in this lesson and remaining data types will be covered in following lesson."
   ]
  },
  {
   "cell_type": "markdown",
   "metadata": {},
   "source": [
    "### Numeric Data Types and Operations\n",
    "* Int – It stores the integers values that can be positive or negative and do not contain any decimal point. \n",
    "\n",
    "        Example: num1=10, num2 = 15\n",
    "\n",
    "* Float – These are floating-point real numbers that stores the decimal values. It consists of integer and fraction parts. \n",
    "\n",
    "        Example: fnum = 25.4, fnum1=67.8\n",
    "\n",
    "* Complex – These are complex numbers specified as a real part and an imaginary part. They are stored in the form of a + bj where a is the real part and j represents the imaginary part. \n",
    "\n",
    "        Example: num1= 2 + 3j, num2 = 5 – 7j\n",
    "\n",
    "* Arithmetic Operators\n",
    "\n",
    "![Arithmetic_Operators](../assets/arithmetic-operators.png)"
   ]
  },
  {
   "cell_type": "code",
   "execution_count": 9,
   "metadata": {},
   "outputs": [
    {
     "name": "stdout",
     "output_type": "stream",
     "text": [
      "30\n",
      "<class 'int'>\n"
     ]
    }
   ],
   "source": [
    "# Addition operation\n",
    "x = 10\n",
    "y = 20\n",
    "z = x + y\n",
    "print(z)\n",
    "print(type(z))"
   ]
  },
  {
   "cell_type": "code",
   "execution_count": 10,
   "metadata": {},
   "outputs": [
    {
     "name": "stdout",
     "output_type": "stream",
     "text": [
      "0.5\n",
      "<class 'float'>\n"
     ]
    }
   ],
   "source": [
    "# Modulo operation\n",
    "a = 10.5\n",
    "b = 2\n",
    "c = a % b\n",
    "print(c)\n",
    "print(type(c))"
   ]
  },
  {
   "cell_type": "code",
   "execution_count": 11,
   "metadata": {},
   "outputs": [
    {
     "name": "stdout",
     "output_type": "stream",
     "text": [
      "100.0\n",
      "<class 'float'>\n"
     ]
    }
   ],
   "source": [
    "# Exponent operation\n",
    "x = 10.0\n",
    "y = 2\n",
    "z = x ** y\n",
    "print(z)\n",
    "print(type(z))"
   ]
  },
  {
   "cell_type": "code",
   "execution_count": 12,
   "metadata": {},
   "outputs": [
    {
     "name": "stdout",
     "output_type": "stream",
     "text": [
      "3\n",
      "<class 'int'>\n"
     ]
    }
   ],
   "source": [
    "# Floor Division operation\n",
    "a, b = 10, 3  # a = 10, b = 3\n",
    "c = a // b\n",
    "print(c)\n",
    "print(type(c))\n",
    "\n",
    "# Similarly you could try other arithmetic operations"
   ]
  },
  {
   "cell_type": "code",
   "execution_count": 13,
   "metadata": {},
   "outputs": [
    {
     "name": "stdout",
     "output_type": "stream",
     "text": [
      "(10+20j)\n",
      "<class 'complex'>\n"
     ]
    }
   ],
   "source": [
    "# Complex number\n",
    "x = 10\n",
    "y = 20\n",
    "z = complex(x, y)\n",
    "print(z)\n",
    "print(type(z))"
   ]
  },
  {
   "cell_type": "code",
   "execution_count": 14,
   "metadata": {},
   "outputs": [
    {
     "name": "stdout",
     "output_type": "stream",
     "text": [
      "(30+50j)\n"
     ]
    }
   ],
   "source": [
    "# Addition, subtraction, multiplication, division and exponent can be performed on complex numbers\n",
    "a = complex(20, 30)\n",
    "b = complex(10, 20)\n",
    "print(a+b)"
   ]
  },
  {
   "cell_type": "markdown",
   "metadata": {},
   "source": [
    "### Boolean Data Type\n",
    "* The boolean data type in Python represents logical values of True and False."
   ]
  },
  {
   "cell_type": "code",
   "execution_count": 15,
   "metadata": {},
   "outputs": [
    {
     "name": "stdout",
     "output_type": "stream",
     "text": [
      "False\n",
      "True\n",
      "False\n",
      "True\n"
     ]
    }
   ],
   "source": [
    "# Logical Operations on Boolean variables\n",
    "a = True\n",
    "b = False\n",
    "result_and = a and b\n",
    "result_or = a or b\n",
    "result_not = not a\n",
    "result_xor = a ^ b\n",
    "print(result_and)\n",
    "print(result_or)\n",
    "print(result_not)\n",
    "print(result_xor)"
   ]
  },
  {
   "cell_type": "markdown",
   "metadata": {},
   "source": [
    "### Type Casting in Python\n",
    "* There may be times when you want to specify a type on to a variable. This can be done with casting.\n",
    "\n",
    "* Casting is done using following functions:\n",
    "\n",
    "        * int()\n",
    "        * float()\n",
    "        * str()"
   ]
  },
  {
   "cell_type": "code",
   "execution_count": 16,
   "metadata": {},
   "outputs": [
    {
     "name": "stdout",
     "output_type": "stream",
     "text": [
      "1\n",
      "<class 'int'>\n",
      "2\n",
      "<class 'int'>\n",
      "3\n",
      "<class 'int'>\n"
     ]
    }
   ],
   "source": [
    "# Casting to Integers\n",
    "x = int(1)   # x will be 1\n",
    "y = int(2.8) # y will be 2\n",
    "z = int(\"3\") # z will be 3\n",
    "\n",
    "print(x)\n",
    "print(type(x))\n",
    "\n",
    "print(y)\n",
    "print(type(y))\n",
    "\n",
    "print(z)\n",
    "print((type(z)))"
   ]
  },
  {
   "cell_type": "code",
   "execution_count": 17,
   "metadata": {},
   "outputs": [
    {
     "name": "stdout",
     "output_type": "stream",
     "text": [
      "1.0\n",
      "<class 'float'>\n",
      "2.8\n",
      "<class 'float'>\n",
      "3.0\n",
      "<class 'float'>\n",
      "4.2\n",
      "<class 'float'>\n"
     ]
    }
   ],
   "source": [
    "# Casting to Float\n",
    "x = float(1)     # x will be 1.0\n",
    "y = float(2.8)   # y will be 2.8\n",
    "z = float(\"3\")   # z will be 3.0\n",
    "w = float(\"4.2\") # w will be 4.2\n",
    "\n",
    "print(x)\n",
    "print(type(x))\n",
    "\n",
    "print(y)\n",
    "print(type(y))\n",
    "\n",
    "print(z)\n",
    "print((type(z)))\n",
    "\n",
    "print(w)\n",
    "print(type(w))"
   ]
  },
  {
   "cell_type": "code",
   "execution_count": 18,
   "metadata": {},
   "outputs": [
    {
     "name": "stdout",
     "output_type": "stream",
     "text": [
      "s1\n",
      "<class 'str'>\n",
      "2\n",
      "<class 'str'>\n",
      "3.0\n",
      "<class 'str'>\n"
     ]
    }
   ],
   "source": [
    "# Casting to string\n",
    "\n",
    "x = str(\"s1\") # x will be 's1'\n",
    "y = str(2)    # y will be '2'\n",
    "z = str(3.0)  # z will be '3.0'\n",
    "\n",
    "print(x)\n",
    "print(type(x))\n",
    "\n",
    "print(y)\n",
    "print(type(y))\n",
    "\n",
    "print(z)\n",
    "print((type(z)))"
   ]
  },
  {
   "cell_type": "markdown",
   "metadata": {},
   "source": [
    "### Input and Output Functions\n",
    "* input(): \n",
    "    * input() function is used to take input from the user. \n",
    "    * It always returns the input as a string."
   ]
  },
  {
   "cell_type": "code",
   "execution_count": 19,
   "metadata": {},
   "outputs": [
    {
     "name": "stdout",
     "output_type": "stream",
     "text": [
      "Sushil\n",
      "<class 'str'>\n"
     ]
    }
   ],
   "source": [
    "name = input(\"Enter your name: \")\n",
    "print(name)\n",
    "print(type(name))"
   ]
  },
  {
   "cell_type": "code",
   "execution_count": 20,
   "metadata": {},
   "outputs": [
    {
     "name": "stdout",
     "output_type": "stream",
     "text": [
      "25\n",
      "<class 'str'>\n"
     ]
    }
   ],
   "source": [
    "age = input(\"Enter your age: \")\n",
    "print(age)\n",
    "print(type(age))"
   ]
  },
  {
   "cell_type": "markdown",
   "metadata": {},
   "source": [
    "* print():\n",
    "    * print() function is the most common way to produce output in Python. \n",
    "    * It outputs data to the console."
   ]
  },
  {
   "cell_type": "markdown",
   "metadata": {},
   "source": [
    "Basic output"
   ]
  },
  {
   "cell_type": "code",
   "execution_count": 21,
   "metadata": {},
   "outputs": [
    {
     "name": "stdout",
     "output_type": "stream",
     "text": [
      "Name: Ram, Age: 20\n"
     ]
    }
   ],
   "source": [
    "print(\"Name: Ram, Age: 20\")"
   ]
  },
  {
   "cell_type": "markdown",
   "metadata": {},
   "source": [
    "Output Multiple Items"
   ]
  },
  {
   "cell_type": "code",
   "execution_count": 22,
   "metadata": {},
   "outputs": [
    {
     "name": "stdout",
     "output_type": "stream",
     "text": [
      "Name: Ram Age: 20\n"
     ]
    }
   ],
   "source": [
    "name = \"Ram\"\n",
    "age = 20\n",
    "print(\"Name:\", name, \"Age:\", age)"
   ]
  },
  {
   "cell_type": "markdown",
   "metadata": {},
   "source": [
    "Formatted Strings (f-strings)"
   ]
  },
  {
   "cell_type": "code",
   "execution_count": 23,
   "metadata": {},
   "outputs": [
    {
     "name": "stdout",
     "output_type": "stream",
     "text": [
      "Name: Ram, Age: 20\n"
     ]
    }
   ],
   "source": [
    "name = \"Ram\"\n",
    "age = 20\n",
    "print(f\"Name: {name}, Age: {age}\")"
   ]
  },
  {
   "cell_type": "markdown",
   "metadata": {},
   "source": [
    "String Formatting with format()"
   ]
  },
  {
   "cell_type": "code",
   "execution_count": 24,
   "metadata": {},
   "outputs": [
    {
     "name": "stdout",
     "output_type": "stream",
     "text": [
      "Name: Ram, Age: 20\n"
     ]
    }
   ],
   "source": [
    "name = \"Ram\"\n",
    "age = 20\n",
    "print(\"Name: {}, Age: {}\".format(name, age))"
   ]
  },
  {
   "cell_type": "markdown",
   "metadata": {},
   "source": [
    "Old-Style String Formatting"
   ]
  },
  {
   "cell_type": "code",
   "execution_count": 25,
   "metadata": {},
   "outputs": [
    {
     "name": "stdout",
     "output_type": "stream",
     "text": [
      "Name: Ram, Age: 20\n"
     ]
    }
   ],
   "source": [
    "name = \"Ram\"\n",
    "age = 20\n",
    "print(\"Name: %s, Age: %d\" % (name, age))"
   ]
  }
 ],
 "metadata": {
  "kernelspec": {
   "display_name": "Python 3",
   "language": "python",
   "name": "python3"
  },
  "language_info": {
   "codemirror_mode": {
    "name": "ipython",
    "version": 3
   },
   "file_extension": ".py",
   "mimetype": "text/x-python",
   "name": "python",
   "nbconvert_exporter": "python",
   "pygments_lexer": "ipython3",
   "version": "3.8.10"
  }
 },
 "nbformat": 4,
 "nbformat_minor": 2
}
