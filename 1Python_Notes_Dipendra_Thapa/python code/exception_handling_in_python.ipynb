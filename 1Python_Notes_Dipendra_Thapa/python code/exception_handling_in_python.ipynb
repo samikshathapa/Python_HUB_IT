{
 "cells": [
  {
   "cell_type": "markdown",
   "metadata": {},
   "source": [
    "## Exception Handling in Python\n",
    "\n",
    "* Error and exception handling is a crucial part of programming that allows our code to handle unexpected situations gracefully, preventing crashes and providing meaningful error messages to users."
   ]
  },
  {
   "cell_type": "markdown",
   "metadata": {},
   "source": [
    "**Using try, except, else, and finally**\n",
    "\n",
    "* The try block lets you test a block of code for errors\n",
    "\n",
    "* The except block lets you handle the error. \n",
    "\n",
    "* The else block lets you execute code if no error occurs.\n",
    "\n",
    "* The finally block lets you execute code, regardless of the result of the try and except blocks."
   ]
  },
  {
   "cell_type": "code",
   "execution_count": 1,
   "metadata": {},
   "outputs": [],
   "source": [
    "try:\n",
    "    # Code that may raise an exception\n",
    "    pass\n",
    "except ExceptionType:\n",
    "    # Code that runs if the exception occurs\n",
    "    pass\n",
    "else:\n",
    "    # Code that runs if no exception occurs\n",
    "    pass\n",
    "finally:\n",
    "    # Code that runs no matter what\n",
    "    pass"
   ]
  },
  {
   "cell_type": "markdown",
   "metadata": {},
   "source": [
    "Example"
   ]
  },
  {
   "cell_type": "code",
   "execution_count": 3,
   "metadata": {},
   "outputs": [
    {
     "name": "stdout",
     "output_type": "stream",
     "text": [
      "Cannot divide by zero!\n",
      "This is finally block, it will run no matter what.\n"
     ]
    }
   ],
   "source": [
    "try:\n",
    "    result = 10 / 0\n",
    "except ZeroDivisionError:\n",
    "    print(\"Cannot divide by zero!\")\n",
    "else:\n",
    "    print(\"Division successful!\")\n",
    "finally:\n",
    "    print(\"This is finally block, it will run no matter what.\")"
   ]
  },
  {
   "cell_type": "markdown",
   "metadata": {},
   "source": [
    "Multiple Exceptions"
   ]
  },
  {
   "cell_type": "code",
   "execution_count": 13,
   "metadata": {},
   "outputs": [
    {
     "name": "stdout",
     "output_type": "stream",
     "text": [
      "Cannot divide by zero.\n",
      "Execution completed.\n"
     ]
    }
   ],
   "source": [
    "numerator = 10\n",
    "denominator = 0\n",
    "\n",
    "try:\n",
    "    result = numerator / denominator\n",
    "except ValueError:\n",
    "    print(\"Invalid input. Please enter a valid number.\")\n",
    "except ZeroDivisionError:\n",
    "    print(\"Cannot divide by zero.\")\n",
    "else:\n",
    "    print(f\"Result: {result}\")\n",
    "finally:\n",
    "    print(\"Execution completed.\")\n"
   ]
  },
  {
   "cell_type": "markdown",
   "metadata": {},
   "source": [
    "**Built-In Exceptions**\n",
    "\n",
    "* Python has many built-in exceptions that are raised when the program encounters an error.\n",
    "\n",
    "    * ZeroDivisionError: Raised when division by zero is attempted.\n",
    "\n",
    "    * IndexError: Raised when an index is not found in a sequence.\n",
    "\n",
    "    * KeyError: Raised when a key is not found in a dictionary.\n",
    "\n",
    "    * TypeError: Raised when an operation or function is applied to an object of inappropriate type.\n",
    "    \n",
    "    * ValueError: Raised when a function receives an argument of the correct type but inappropriate value."
   ]
  },
  {
   "cell_type": "markdown",
   "metadata": {},
   "source": [
    "Example"
   ]
  },
  {
   "cell_type": "code",
   "execution_count": 6,
   "metadata": {},
   "outputs": [
    {
     "name": "stdout",
     "output_type": "stream",
     "text": [
      "list index out of range\n",
      "My custom message: Index out of range!\n"
     ]
    }
   ],
   "source": [
    "try:\n",
    "    my_list = [1, 2, 3]\n",
    "    print(my_list[5])\n",
    "except IndexError as e:\n",
    "    print(e)\n",
    "    print(\"My custom message: Index out of range!\")"
   ]
  },
  {
   "cell_type": "markdown",
   "metadata": {},
   "source": [
    "**Raising Exceptions**\n",
    "* We can raise exceptions using the raise keyword"
   ]
  },
  {
   "cell_type": "code",
   "execution_count": 8,
   "metadata": {},
   "outputs": [
    {
     "name": "stdout",
     "output_type": "stream",
     "text": [
      "Cannot take square root of negative number\n"
     ]
    }
   ],
   "source": [
    "def square_root(x):\n",
    "    if x < 0:\n",
    "        raise ValueError(\"Cannot take square root of negative number\")\n",
    "    return x**0.5\n",
    "\n",
    "# Since the square_root function may raise exception during runtime, we need to handle it\n",
    "try:\n",
    "    square_root(-1)\n",
    "except ValueError as e:\n",
    "    print(e)"
   ]
  },
  {
   "cell_type": "markdown",
   "metadata": {},
   "source": [
    "**Creating Custom Exceptions**\n",
    "* Custom exceptions can be created by inheriting from the Exception class.\n",
    "\n",
    "* Custom exceptions allow you to define your own error types."
   ]
  },
  {
   "cell_type": "code",
   "execution_count": 15,
   "metadata": {},
   "outputs": [
    {
     "name": "stdout",
     "output_type": "stream",
     "text": [
      "Exception occurred: Invalid Age\n"
     ]
    }
   ],
   "source": [
    "# Custom exception\n",
    "class InvalidAgeException(Exception):\n",
    "    \"Raised when the input value is less than 18\"\n",
    "    pass"
   ]
  },
  {
   "cell_type": "code",
   "execution_count": 16,
   "metadata": {},
   "outputs": [
    {
     "name": "stdout",
     "output_type": "stream",
     "text": [
      "Exception occurred: Invalid Age\n"
     ]
    }
   ],
   "source": [
    "age = 17\n",
    "\n",
    "try:\n",
    "    if age < 18:\n",
    "        raise InvalidAgeException\n",
    "    else:\n",
    "        print(\"Eligible to Vote\")\n",
    "        \n",
    "except InvalidAgeException:\n",
    "    print(\"Exception occurred: Invalid Age\")"
   ]
  },
  {
   "cell_type": "markdown",
   "metadata": {},
   "source": [
    "**Customizing Exception Classes**"
   ]
  },
  {
   "cell_type": "code",
   "execution_count": 25,
   "metadata": {},
   "outputs": [],
   "source": [
    "class InvalidAgeException(Exception):\n",
    "    \"Raised when the input value is less than 18\"\n",
    "    def __init__(self, age, message=\"Age should be greater than 18 to vote\"):\n",
    "        self.age = age\n",
    "        self.message = f\"{age} < 18: {message}\"\n",
    "        super().__init__(self.message)\n",
    "        "
   ]
  },
  {
   "cell_type": "code",
   "execution_count": 24,
   "metadata": {},
   "outputs": [
    {
     "name": "stdout",
     "output_type": "stream",
     "text": [
      "Eligible to Vote\n"
     ]
    }
   ],
   "source": [
    "age = 18\n",
    "\n",
    "try:\n",
    "    if age < 18:\n",
    "        raise InvalidAgeException(age)\n",
    "    else:\n",
    "        print(\"Eligible to Vote\")\n",
    "        \n",
    "except InvalidAgeException as e:\n",
    "    print(e)"
   ]
  }
 ],
 "metadata": {
  "kernelspec": {
   "display_name": "Python 3",
   "language": "python",
   "name": "python3"
  },
  "language_info": {
   "codemirror_mode": {
    "name": "ipython",
    "version": 3
   },
   "file_extension": ".py",
   "mimetype": "text/x-python",
   "name": "python",
   "nbconvert_exporter": "python",
   "pygments_lexer": "ipython3",
   "version": "3.8.10"
  }
 },
 "nbformat": 4,
 "nbformat_minor": 2
}
