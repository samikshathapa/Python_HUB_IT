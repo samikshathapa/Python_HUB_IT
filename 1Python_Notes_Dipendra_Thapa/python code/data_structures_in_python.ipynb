{
 "cells": [
  {
   "cell_type": "markdown",
   "metadata": {},
   "source": [
    "## Data Structures\n",
    "\n",
    "* Objectives:\n",
    "\n",
    "    1. Understand Python’s approach to objects, names, and namespaces.\n",
    "\n",
    "    2. Explore lists, tuples, strings, dictionaries, and sets\n",
    "\n",
    "    3. Explore collections module and comprehension techniques\n",
    "    \n",
    "    4. Use control structures: conditional statements(if,elif, else), loops(for, while), break, continue and pass statements.\n"
   ]
  },
  {
   "cell_type": "markdown",
   "metadata": {},
   "source": [
    "### Objects, Names and Namespaces\n",
    "\n",
    "* Objects:\n",
    "\n",
    "    * In Python, everything is an object.\n",
    "\n",
    "    *  Each object in Python has three key attributes: a type, a value, and an identity.\n",
    "\n",
    "    * Type: Determines the operations that an object supports and the possible values it can take. For example, an integer object supports arithmetic operations.\n",
    "\n",
    "    * Value: The data stored in the object.\n",
    "    \n",
    "    * Identity: A unique identifier for the object, which can be obtained using the id() function."
   ]
  },
  {
   "cell_type": "code",
   "execution_count": 1,
   "metadata": {},
   "outputs": [
    {
     "name": "stdout",
     "output_type": "stream",
     "text": [
      "<class 'int'>\n",
      "42\n",
      "9765696\n",
      "9765696\n"
     ]
    }
   ],
   "source": [
    "x = 42\n",
    "print(type(x))  # Output: <class 'int'>\n",
    "print(x)        # Output: 42\n",
    "print(id(x))    # Outputs a unique identifier for the object\n",
    "print(id(42))  # Outputs the same unique identifier"
   ]
  },
  {
   "cell_type": "markdown",
   "metadata": {},
   "source": [
    "* Names and Namespace\n",
    "\n",
    "    * Names (also known as identifiers) are used to refer to objects. \n",
    "\n",
    "    * Names are essentially labels that point to objects in memory.\n",
    "\n",
    "    * Namespaces are containers that hold a set of names"
   ]
  },
  {
   "cell_type": "code",
   "execution_count": 2,
   "metadata": {},
   "outputs": [],
   "source": [
    "a = 42  # 'a' is the name that points to the integer object 42\n",
    "b = a   # 'b' now points to the same object as 'a'"
   ]
  },
  {
   "cell_type": "markdown",
   "metadata": {},
   "source": [
    "### Conditional Statements\n",
    "* Allow you to execute certain blocks of code based on whether a condition is true or false. \n",
    "\n",
    "* The primary conditional statements in Python are if, elif, and else.\n",
    "\n",
    "* Conditional statements often involve boolean expressions. Python supports various comparison operators and logical operators to build these expressions.\n",
    "\n",
    "* Comparison Operators:\n",
    "\n",
    "\n",
    "<div>\n",
    "<img src=\"../assets/comparison-operator.png\" width=\"300\"/>\n",
    "</div>\n",
    "\n",
    "* Logical Operators:\n",
    "    * and\n",
    "    * or\n",
    "    * not\n",
    "    * xor"
   ]
  },
  {
   "cell_type": "markdown",
   "metadata": {},
   "source": [
    "### 'if' statement"
   ]
  },
  {
   "cell_type": "code",
   "execution_count": 3,
   "metadata": {},
   "outputs": [
    {
     "name": "stdout",
     "output_type": "stream",
     "text": [
      "You are an adult.\n"
     ]
    }
   ],
   "source": [
    "age = 18\n",
    "if age >= 18:\n",
    "    print(\"You are an adult.\")"
   ]
  },
  {
   "cell_type": "markdown",
   "metadata": {},
   "source": [
    "### if-else statement"
   ]
  },
  {
   "cell_type": "code",
   "execution_count": 4,
   "metadata": {},
   "outputs": [
    {
     "name": "stdout",
     "output_type": "stream",
     "text": [
      "You can enter the event.\n"
     ]
    }
   ],
   "source": [
    "age = 20\n",
    "has_permission = True\n",
    "\n",
    "if age >= 18 and has_permission:\n",
    "    print(\"You can enter the event.\")\n",
    "else:\n",
    "    print(\"You cannot enter the event.\")"
   ]
  },
  {
   "cell_type": "markdown",
   "metadata": {},
   "source": [
    "### if-elif-else statement"
   ]
  },
  {
   "cell_type": "code",
   "execution_count": 5,
   "metadata": {},
   "outputs": [
    {
     "name": "stdout",
     "output_type": "stream",
     "text": [
      "You are an adult.\n"
     ]
    }
   ],
   "source": [
    "age = 20\n",
    "if age < 13:\n",
    "    print(\"You are a child.\")\n",
    "elif 13 <= age < 18:\n",
    "    print(\"You are a teenager.\")\n",
    "else:\n",
    "    print(\"You are an adult.\")"
   ]
  },
  {
   "cell_type": "markdown",
   "metadata": {},
   "source": [
    "### Nested if-else statement"
   ]
  },
  {
   "cell_type": "code",
   "execution_count": 6,
   "metadata": {},
   "outputs": [
    {
     "name": "stdout",
     "output_type": "stream",
     "text": [
      "You are an adult and can drink alcohol (in most countries).\n"
     ]
    }
   ],
   "source": [
    "age = 25\n",
    "if age >= 18:\n",
    "    if age >= 21:\n",
    "        print(\"You are an adult and can drink alcohol (in most countries).\")\n",
    "    else:\n",
    "        print(\"You are an adult but cannot drink alcohol (in most countries).\")\n",
    "else:\n",
    "    print(\"You are a minor.\")"
   ]
  },
  {
   "cell_type": "markdown",
   "metadata": {},
   "source": [
    "### Ternary Conditional Operator"
   ]
  },
  {
   "cell_type": "code",
   "execution_count": 7,
   "metadata": {},
   "outputs": [
    {
     "name": "stdout",
     "output_type": "stream",
     "text": [
      "You are an adult.\n"
     ]
    }
   ],
   "source": [
    "age = 18\n",
    "status = \"adult\" if age >= 18 else \"minor\"\n",
    "print(f\"You are an {status}.\")"
   ]
  },
  {
   "cell_type": "markdown",
   "metadata": {},
   "source": []
  },
  {
   "cell_type": "markdown",
   "metadata": {},
   "source": [
    "### Lists in Python\n",
    "* A list is an ordered collection of items that are changeable (mutable) and allow duplicate elements.\n",
    "\n",
    "* Lists are defined using square brackets [].\n",
    "\n",
    "* Lists can be homogenous or heterogenous collection."
   ]
  },
  {
   "cell_type": "markdown",
   "metadata": {},
   "source": [
    "Creation of List"
   ]
  },
  {
   "cell_type": "code",
   "execution_count": 8,
   "metadata": {},
   "outputs": [
    {
     "name": "stdout",
     "output_type": "stream",
     "text": [
      "[]\n",
      "<class 'list'>\n"
     ]
    }
   ],
   "source": [
    "lst = [] # Empty list\n",
    "print(lst)\n",
    "print(type(lst))"
   ]
  },
  {
   "cell_type": "code",
   "execution_count": 2,
   "metadata": {},
   "outputs": [],
   "source": [
    "marks = [10, 20, 30, 40, 50] # List of integers\n",
    "fruits = [\"apple\", \"banana\", \"orange\"] # List of strings"
   ]
  },
  {
   "cell_type": "markdown",
   "metadata": {},
   "source": [
    "Accessing list elements"
   ]
  },
  {
   "cell_type": "code",
   "execution_count": 3,
   "metadata": {},
   "outputs": [
    {
     "name": "stdout",
     "output_type": "stream",
     "text": [
      "apple\n"
     ]
    }
   ],
   "source": [
    "# Indexing will be used for accessing the elements of the list\n",
    "# Indexing starts from 0\n",
    "\n",
    "first_fruit = fruits[0]\n",
    "print(first_fruit)"
   ]
  },
  {
   "cell_type": "code",
   "execution_count": 4,
   "metadata": {},
   "outputs": [
    {
     "name": "stdout",
     "output_type": "stream",
     "text": [
      "orange\n"
     ]
    }
   ],
   "source": [
    "# Negative indexing will be used to access the element of the list from the last or in reverse\n",
    "last_fruit = fruits[-1]\n",
    "print(last_fruit)"
   ]
  },
  {
   "cell_type": "code",
   "execution_count": 5,
   "metadata": {},
   "outputs": [
    {
     "name": "stdout",
     "output_type": "stream",
     "text": [
      "banana\n"
     ]
    }
   ],
   "source": [
    "second_to_last_fruit = fruits[-2]\n",
    "print(second_to_last_fruit)"
   ]
  },
  {
   "cell_type": "markdown",
   "metadata": {},
   "source": [
    "List Slicing\n",
    "\n",
    "* Slicing is a powerful feature in Python that allows you to extract a portion of a list (or other sequence types like strings and tuples).\n",
    "\n",
    "* Syntax: \n",
    "        \n",
    "        list[start:stop]: Extracts elements from the start index up to, but not including, the stop index.\n",
    "\n",
    "* Syntax:\n",
    "        \n",
    "        list[start:stop:step]: Extracts elements from the start index up to, but not including, the stop index, with a specified step.\n",
    "\n",
    "* Default values:\n",
    "\n",
    "* start: If omitted, defaults to the beginning of the list (index 0).\n",
    "\n",
    "* stop: If omitted, defaults to the end of the list.\n",
    "\n",
    "* step: If omitted, defaults to 1."
   ]
  },
  {
   "cell_type": "code",
   "execution_count": 13,
   "metadata": {},
   "outputs": [
    {
     "name": "stdout",
     "output_type": "stream",
     "text": [
      "['banana', 'cherry', 'date']\n"
     ]
    }
   ],
   "source": [
    "fruits = [\"apple\", \"banana\", \"cherry\", \"date\", \"elderberry\"]\n",
    "print(fruits[1:4])  # Output: ['banana', 'cherry', 'date']"
   ]
  },
  {
   "cell_type": "code",
   "execution_count": 14,
   "metadata": {},
   "outputs": [
    {
     "name": "stdout",
     "output_type": "stream",
     "text": [
      "['apple', 'banana', 'cherry']\n"
     ]
    }
   ],
   "source": [
    "# Omitting Start\n",
    "print(fruits[:3])  # Output: ['apple', 'banana', 'cherry']"
   ]
  },
  {
   "cell_type": "code",
   "execution_count": 15,
   "metadata": {},
   "outputs": [
    {
     "name": "stdout",
     "output_type": "stream",
     "text": [
      "['cherry', 'date', 'elderberry']\n"
     ]
    }
   ],
   "source": [
    "# Omitting Stop\n",
    "print(fruits[2:])  # Output: ['cherry', 'date', 'elderberry']"
   ]
  },
  {
   "cell_type": "code",
   "execution_count": 16,
   "metadata": {},
   "outputs": [
    {
     "name": "stdout",
     "output_type": "stream",
     "text": [
      "['cherry', 'date', 'elderberry']\n",
      "['apple', 'banana', 'cherry']\n"
     ]
    }
   ],
   "source": [
    "# Negative Indexing\n",
    "# Negative index starts from -1\n",
    "# -1 index is the last element of the list, -2 is the second last element, and so on\n",
    "\n",
    "print(fruits[-3:])  # Output: ['cherry', 'date', 'elderberry']\n",
    "print(fruits[:-2])  # Output: ['apple', 'banana', 'cherry']\n"
   ]
  },
  {
   "cell_type": "code",
   "execution_count": 17,
   "metadata": {},
   "outputs": [
    {
     "name": "stdout",
     "output_type": "stream",
     "text": [
      "['apple', 'cherry', 'elderberry']\n",
      "['banana', 'date']\n"
     ]
    }
   ],
   "source": [
    "# Specifying Step Size\n",
    "print(fruits[::2])  # Output: ['apple', 'cherry', 'elderberry']\n",
    "print(fruits[1:4:2])  # Output: ['banana', 'date']\n"
   ]
  },
  {
   "cell_type": "code",
   "execution_count": 18,
   "metadata": {},
   "outputs": [
    {
     "name": "stdout",
     "output_type": "stream",
     "text": [
      "['elderberry', 'date', 'cherry', 'banana', 'apple']\n"
     ]
    }
   ],
   "source": [
    "# Reversing the list\n",
    "# Negative step size will reverse the list\n",
    "print(fruits[::-1])  # Output: ['elderberry', 'date', 'cherry', 'banana', 'apple']"
   ]
  },
  {
   "cell_type": "markdown",
   "metadata": {},
   "source": [
    "Modifying Elements"
   ]
  },
  {
   "cell_type": "code",
   "execution_count": 19,
   "metadata": {},
   "outputs": [
    {
     "name": "stdout",
     "output_type": "stream",
     "text": [
      "['apple', 'mango', 'cherry', 'date', 'elderberry']\n"
     ]
    }
   ],
   "source": [
    "fruits[1] = \"mango\"\n",
    "print(fruits)  # Output: ['apple', 'mango', 'cherry', 'date', 'elderberry']"
   ]
  },
  {
   "cell_type": "markdown",
   "metadata": {},
   "source": [
    "Adding Elements"
   ]
  },
  {
   "cell_type": "code",
   "execution_count": 20,
   "metadata": {},
   "outputs": [
    {
     "name": "stdout",
     "output_type": "stream",
     "text": [
      "After appending orange:  ['apple', 'mango', 'cherry', 'date', 'elderberry', 'orange']\n",
      "After inserting strawberry:  ['apple', 'strawberry', 'mango', 'cherry', 'date', 'elderberry', 'orange']\n"
     ]
    }
   ],
   "source": [
    "# append() will add an element to the end of the list\n",
    "fruits.append(\"orange\")\n",
    "print(\"After appending orange: \", fruits)  # Output: ['apple', 'mango', 'cherry', 'date', 'elderberry', 'orange']\n",
    "\n",
    "\n",
    "# insert() will add an element at the specified index\n",
    "fruits.insert(1, \"strawberry\")\n",
    "print(\"After inserting strawberry: \", fruits)  # Output: ['apple', 'strawberry', 'mango', 'cherry', 'date', 'elderberry', 'orange']"
   ]
  },
  {
   "cell_type": "markdown",
   "metadata": {},
   "source": [
    "Removing elements"
   ]
  },
  {
   "cell_type": "code",
   "execution_count": 21,
   "metadata": {},
   "outputs": [
    {
     "name": "stdout",
     "output_type": "stream",
     "text": [
      "Fruits after removing banana:  ['apple', 'strawberry', 'mango', 'cherry', 'date', 'elderberry']\n",
      "Fruits after removing 2nd element:  ['apple', 'strawberry', 'cherry', 'date', 'elderberry']\n"
     ]
    }
   ],
   "source": [
    "# remove() will remove a specified element from the list\n",
    "fruits.remove(\"orange\")\n",
    "print(\"Fruits after removing banana: \", fruits)  # Output: ['apple', 'strawberry', 'cherry', 'date', 'elderberry', 'orange']\n",
    "\n",
    "# pop() will remove an element from the list and return the removed element\n",
    "fruit = fruits.pop(2)\n",
    "print(\"Fruits after removing 2nd element: \", fruits) "
   ]
  },
  {
   "cell_type": "markdown",
   "metadata": {},
   "source": [
    "List Concatenation\n",
    "\n",
    "* List concatenation in Python involves combining two or more lists to create a new list.\n",
    "\n",
    "* List concatenation can be done using '+' operator or extend() method."
   ]
  },
  {
   "cell_type": "code",
   "execution_count": 22,
   "metadata": {},
   "outputs": [
    {
     "name": "stdout",
     "output_type": "stream",
     "text": [
      "[1, 2, 3, 4, 5, 6]\n"
     ]
    }
   ],
   "source": [
    "list1 = [1, 2, 3]\n",
    "list2 = [4, 5, 6]\n",
    "concatenated_list = list1 + list2\n",
    "print(concatenated_list)  # Output: [1, 2, 3, 4, 5, 6]"
   ]
  },
  {
   "cell_type": "code",
   "execution_count": 23,
   "metadata": {},
   "outputs": [
    {
     "name": "stdout",
     "output_type": "stream",
     "text": [
      "[1, 2, 3, 4, 5, 6]\n"
     ]
    }
   ],
   "source": [
    "list1 = [1, 2, 3]\n",
    "list2 = [4, 5, 6]\n",
    "list1.extend(list2)\n",
    "print(list1)  # Output: [1, 2, 3, 4, 5, 6]"
   ]
  },
  {
   "cell_type": "markdown",
   "metadata": {},
   "source": [
    "Length of List\n",
    "\n",
    "* len() function returns the length of list"
   ]
  },
  {
   "cell_type": "code",
   "execution_count": 24,
   "metadata": {},
   "outputs": [
    {
     "name": "stdout",
     "output_type": "stream",
     "text": [
      "Length of myList:  3\n"
     ]
    }
   ],
   "source": [
    "myList = [1, 2, 3]\n",
    "print(\"Length of myList: \", len(myList))"
   ]
  },
  {
   "cell_type": "markdown",
   "metadata": {},
   "source": [
    "Nested List\n",
    "\n",
    "* Nested lists are lists that contain other lists as their elements. \n",
    "\n",
    "* This allows for the creation of complex data structures, such as matrices or multidimensional arrays."
   ]
  },
  {
   "cell_type": "code",
   "execution_count": 25,
   "metadata": {},
   "outputs": [
    {
     "name": "stdout",
     "output_type": "stream",
     "text": [
      "[[1, 2, 3], [4, 5, 6], [7, 8, 9]]\n"
     ]
    }
   ],
   "source": [
    "nested_list = [[1, 2, 3], [4, 5, 6], [7, 8, 9]]\n",
    "print(nested_list)"
   ]
  },
  {
   "cell_type": "markdown",
   "metadata": {},
   "source": [
    "Accessing Elements in Nested Lists\n",
    "\n",
    "* To access elements in a nested list, use multiple indexing."
   ]
  },
  {
   "cell_type": "code",
   "execution_count": 26,
   "metadata": {},
   "outputs": [
    {
     "name": "stdout",
     "output_type": "stream",
     "text": [
      "1\n",
      "6\n",
      "8\n"
     ]
    }
   ],
   "source": [
    "nested_list = [[1, 2, 3], [4, 5, 6], [7, 8, 9]]\n",
    "\n",
    "# Accessing elements\n",
    "print(nested_list[0][0])  # Output: 1\n",
    "print(nested_list[1][2])  # Output: 6\n",
    "print(nested_list[2][1])  # Output: 8"
   ]
  },
  {
   "cell_type": "markdown",
   "metadata": {},
   "source": [
    "Modifying Elements in Nested Lists\n",
    "\n",
    "* You can modify elements in a nested list by accessing them via their indices."
   ]
  },
  {
   "cell_type": "code",
   "execution_count": 27,
   "metadata": {},
   "outputs": [
    {
     "name": "stdout",
     "output_type": "stream",
     "text": [
      "[[1, 20, 3], [4, 5, 6], [70, 8, 9]]\n"
     ]
    }
   ],
   "source": [
    "nested_list = [[1, 2, 3], [4, 5, 6], [7, 8, 9]]\n",
    "\n",
    "# Modifying elements\n",
    "nested_list[0][1] = 20\n",
    "nested_list[2][0] = 70\n",
    "\n",
    "print(nested_list)"
   ]
  },
  {
   "cell_type": "markdown",
   "metadata": {},
   "source": [
    "### Tuples in Python\n",
    "\n",
    "* A tuple is an ordered collection of items that are immutable (cannot be changed after creation).\n",
    "\n",
    "* This immutability makes tuples a suitable choice for data that should not be modified.\n",
    "\n",
    "* Tuples are defined using parentheses ().\n",
    "\n",
    "* Tuples can be homogenous or heterogenous collection.\n",
    "\n",
    "* Tuples allow duplicate elements."
   ]
  },
  {
   "cell_type": "markdown",
   "metadata": {},
   "source": [
    "Creation of Tuple"
   ]
  },
  {
   "cell_type": "code",
   "execution_count": 28,
   "metadata": {},
   "outputs": [
    {
     "name": "stdout",
     "output_type": "stream",
     "text": [
      "()\n",
      "<class 'tuple'>\n"
     ]
    }
   ],
   "source": [
    "tup = ()  # Empty tuple\n",
    "print(tup)\n",
    "print(type(tup))"
   ]
  },
  {
   "cell_type": "code",
   "execution_count": 29,
   "metadata": {},
   "outputs": [
    {
     "name": "stdout",
     "output_type": "stream",
     "text": [
      "(10, 20, 30, 40, 50)\n",
      "('apple', 'banana', 'cherry')\n"
     ]
    }
   ],
   "source": [
    "marks = (10, 20, 30, 40, 50)  # Tuple of integers\n",
    "print(marks)\n",
    "\n",
    "fruits = (\"apple\", \"banana\", \"cherry\")   # Tuple of strings\n",
    "print(fruits)"
   ]
  },
  {
   "cell_type": "markdown",
   "metadata": {},
   "source": [
    "Accessing elements"
   ]
  },
  {
   "cell_type": "code",
   "execution_count": 30,
   "metadata": {},
   "outputs": [
    {
     "name": "stdout",
     "output_type": "stream",
     "text": [
      "apple\n",
      "cherry\n"
     ]
    }
   ],
   "source": [
    "# Accessing elements in tuple is similar to list\n",
    "\n",
    "print(fruits[0])  # Output: apple\n",
    "\n",
    "print(fruits[-1])  # Output: cherry"
   ]
  },
  {
   "cell_type": "markdown",
   "metadata": {},
   "source": [
    "Slicing in Tuple"
   ]
  },
  {
   "cell_type": "code",
   "execution_count": 31,
   "metadata": {},
   "outputs": [
    {
     "name": "stdout",
     "output_type": "stream",
     "text": [
      "('banana', 'cherry')\n",
      "('apple', 'banana')\n",
      "('cherry', 'date', 'elderberry')\n",
      "('apple', 'cherry', 'elderberry')\n",
      "('apple', 'banana', 'cherry')\n",
      "('elderberry', 'date', 'cherry', 'banana', 'apple')\n"
     ]
    }
   ],
   "source": [
    "fruits = (\"apple\", \"banana\", \"cherry\", \"date\", \"elderberry\")\n",
    "print(fruits[1:3])  # Output: ('banana', 'cherry')\n",
    "print(fruits[:2])   # Output: ('apple', 'banana')\n",
    "print(fruits[2:])   # Output: ('cherry', 'date', 'elderberry')\n",
    "print(fruits[::2])  # Output: ('apple', 'cherry', 'elderberry')\n",
    "print(fruits[:-2])\n",
    "print(fruits[::-1])"
   ]
  },
  {
   "cell_type": "markdown",
   "metadata": {},
   "source": [
    "Immutability"
   ]
  },
  {
   "cell_type": "code",
   "execution_count": 32,
   "metadata": {},
   "outputs": [
    {
     "ename": "TypeError",
     "evalue": "'tuple' object does not support item assignment",
     "output_type": "error",
     "traceback": [
      "\u001b[0;31m---------------------------------------------------------------------------\u001b[0m",
      "\u001b[0;31mTypeError\u001b[0m                                 Traceback (most recent call last)",
      "Cell \u001b[0;32mIn[32], line 3\u001b[0m\n\u001b[1;32m      1\u001b[0m fruits \u001b[38;5;241m=\u001b[39m (\u001b[38;5;124m\"\u001b[39m\u001b[38;5;124mapple\u001b[39m\u001b[38;5;124m\"\u001b[39m, \u001b[38;5;124m\"\u001b[39m\u001b[38;5;124mbanana\u001b[39m\u001b[38;5;124m\"\u001b[39m, \u001b[38;5;124m\"\u001b[39m\u001b[38;5;124mcherry\u001b[39m\u001b[38;5;124m\"\u001b[39m)\n\u001b[1;32m      2\u001b[0m \u001b[38;5;66;03m# This will raise a TypeError\u001b[39;00m\n\u001b[0;32m----> 3\u001b[0m \u001b[43mfruits\u001b[49m\u001b[43m[\u001b[49m\u001b[38;5;241;43m0\u001b[39;49m\u001b[43m]\u001b[49m \u001b[38;5;241m=\u001b[39m \u001b[38;5;124m\"\u001b[39m\u001b[38;5;124mblueberry\u001b[39m\u001b[38;5;124m\"\u001b[39m\n",
      "\u001b[0;31mTypeError\u001b[0m: 'tuple' object does not support item assignment"
     ]
    }
   ],
   "source": [
    "fruits = (\"apple\", \"banana\", \"cherry\")\n",
    "# This will raise a TypeError\n",
    "fruits[0] = \"blueberry\""
   ]
  },
  {
   "cell_type": "markdown",
   "metadata": {},
   "source": [
    "Nested Tuple\n",
    "\n",
    "* Tuples can contain other tuples (or lists, or other types)."
   ]
  },
  {
   "cell_type": "code",
   "execution_count": null,
   "metadata": {},
   "outputs": [
    {
     "name": "stdout",
     "output_type": "stream",
     "text": [
      "('a', 'b')\n",
      "4\n"
     ]
    }
   ],
   "source": [
    "nested_tuple = (1, 2, (\"a\", \"b\"), (3, 4))\n",
    "print(nested_tuple[2])  # Output: ('a', 'b')\n",
    "print(nested_tuple[3][1])  # Output: 4"
   ]
  },
  {
   "cell_type": "markdown",
   "metadata": {},
   "source": [
    "Concatenation\n",
    "\n",
    "* Tuples can be concatenated using '+' operator"
   ]
  },
  {
   "cell_type": "code",
   "execution_count": null,
   "metadata": {},
   "outputs": [
    {
     "name": "stdout",
     "output_type": "stream",
     "text": [
      "(1, 2, 3, 4, 5, 6)\n"
     ]
    }
   ],
   "source": [
    "tuple1 = (1, 2, 3)\n",
    "tuple2 = (4, 5, 6)\n",
    "result = tuple1 + tuple2\n",
    "print(result)  # Output: (1, 2, 3, 4, 5, 6)"
   ]
  },
  {
   "cell_type": "markdown",
   "metadata": {},
   "source": [
    "### Sets in Python\n",
    "* Sets are an unordered collection of unique elements in Python.\n",
    "\n",
    "* They are defined using curly braces {} or the set() constructor.\n",
    "\n",
    "* Useful for operations like removing duplicates, and performing mathematical set operations like union, intersection, and difference.\n",
    "\n"
   ]
  },
  {
   "cell_type": "markdown",
   "metadata": {},
   "source": [
    "Creating Sets"
   ]
  },
  {
   "cell_type": "code",
   "execution_count": null,
   "metadata": {},
   "outputs": [
    {
     "name": "stdout",
     "output_type": "stream",
     "text": [
      "set()\n"
     ]
    }
   ],
   "source": [
    "# Creating an empty set\n",
    "empty_set = set()\n",
    "print(empty_set)  # Output: set()"
   ]
  },
  {
   "cell_type": "code",
   "execution_count": null,
   "metadata": {},
   "outputs": [
    {
     "name": "stdout",
     "output_type": "stream",
     "text": [
      "{1, 2, 3, 4, 5}\n",
      "<class 'set'>\n"
     ]
    }
   ],
   "source": [
    "my_set = {1, 2, 3, 4, 5}\n",
    "print(my_set)  # Output: {1, 2, 3, 4, 5}\n",
    "print(type(my_set))"
   ]
  },
  {
   "cell_type": "markdown",
   "metadata": {},
   "source": [
    "Adding elements in set"
   ]
  },
  {
   "cell_type": "code",
   "execution_count": null,
   "metadata": {},
   "outputs": [
    {
     "name": "stdout",
     "output_type": "stream",
     "text": [
      "{1, 2, 3, 4}\n"
     ]
    }
   ],
   "source": [
    "my_set = {1, 2, 3}\n",
    "my_set.add(4)\n",
    "print(my_set)  # Output: {1, 2, 3, 4}"
   ]
  },
  {
   "cell_type": "markdown",
   "metadata": {},
   "source": [
    "Removing elements in set"
   ]
  },
  {
   "cell_type": "code",
   "execution_count": null,
   "metadata": {},
   "outputs": [
    {
     "name": "stdout",
     "output_type": "stream",
     "text": [
      "{1, 3, 4}\n",
      "{1, 4}\n"
     ]
    }
   ],
   "source": [
    "my_set = {1, 2, 3, 4}\n",
    "\n",
    "# Removing an element using remove()\n",
    "my_set.remove(2)\n",
    "print(my_set)  # Output: {1, 3, 4}\n",
    "\n",
    "# Removing an element using discard()\n",
    "my_set.discard(3)   # Attempting to remove a non-existing element using remove() (raises KeyError) but discard() doesn't raise any error\n",
    "print(my_set)  # Output: {1, 4}"
   ]
  },
  {
   "cell_type": "markdown",
   "metadata": {},
   "source": [
    "Set Operations"
   ]
  },
  {
   "cell_type": "code",
   "execution_count": null,
   "metadata": {},
   "outputs": [
    {
     "name": "stdout",
     "output_type": "stream",
     "text": [
      "Union set: {1, 2, 3, 4, 5}\n",
      "Intersection set: {3}\n",
      "Difference set: {1, 2}\n"
     ]
    }
   ],
   "source": [
    "set1 = {1, 2, 3}\n",
    "set2 = {3, 4, 5}\n",
    "\n",
    "union_set = set1.union(set2)  # alternatively, union_set = set1 | set2\n",
    "print(f\"Union set: {union_set}\")\n",
    "\n",
    "intersection_set = set1.intersection(set2)  # alternatively, intersection_set = set1 & set2\n",
    "print(f\"Intersection set: {intersection_set}\")\n",
    "\n",
    "difference_set = set1.difference(set2)  # alternatively, difference_set = set1 - set2\n",
    "print(f\"Difference set: {difference_set}\")"
   ]
  },
  {
   "cell_type": "markdown",
   "metadata": {},
   "source": [
    "Common Usecases of Set"
   ]
  },
  {
   "cell_type": "code",
   "execution_count": null,
   "metadata": {},
   "outputs": [
    {
     "name": "stdout",
     "output_type": "stream",
     "text": [
      "[1, 2, 3, 4, 5]\n"
     ]
    }
   ],
   "source": [
    "# Removing Duplicates from a List\n",
    "my_list = [1, 2, 2, 3, 4, 4, 5]\n",
    "my_set = set(my_list)\n",
    "unique_list = list(my_set)\n",
    "print(unique_list)  # Output: [1, 2, 3, 4, 5]"
   ]
  },
  {
   "cell_type": "code",
   "execution_count": null,
   "metadata": {},
   "outputs": [
    {
     "name": "stdout",
     "output_type": "stream",
     "text": [
      "{4, 5}\n"
     ]
    }
   ],
   "source": [
    "# Finding Common Elements in Two Lists\n",
    "list1 = [1, 2, 3, 4, 5]\n",
    "list2 = [4, 5, 6, 7, 8]\n",
    "common_elements = set(list1).intersection(set(list2))\n",
    "print(common_elements)  # Output: {4, 5}"
   ]
  },
  {
   "cell_type": "markdown",
   "metadata": {},
   "source": [
    "### Strings in Python\n",
    "\n",
    "* Strings in Python are sequences of characters enclosed in single quotes ('), double quotes (\"), triple single quotes ('''), or triple double quotes (\"\"\").\n",
    "\n",
    "* Strings are immutable, meaning once a string is created, it cannot be modified."
   ]
  },
  {
   "cell_type": "markdown",
   "metadata": {},
   "source": [
    "Creating Strings"
   ]
  },
  {
   "cell_type": "code",
   "execution_count": null,
   "metadata": {},
   "outputs": [
    {
     "name": "stdout",
     "output_type": "stream",
     "text": [
      "Hello, World!\n",
      "Hello, World!\n"
     ]
    }
   ],
   "source": [
    "# Using single quotes\n",
    "single_quote_string = 'Hello, World!'\n",
    "print(single_quote_string)\n",
    "\n",
    "# Using double quotes\n",
    "double_quote_string = \"Hello, World!\"\n",
    "print(double_quote_string)\n"
   ]
  },
  {
   "cell_type": "markdown",
   "metadata": {},
   "source": [
    "Accessing Characters in a String"
   ]
  },
  {
   "cell_type": "code",
   "execution_count": null,
   "metadata": {},
   "outputs": [
    {
     "name": "stdout",
     "output_type": "stream",
     "text": [
      "H\n",
      "W\n",
      "!\n",
      ",\n"
     ]
    }
   ],
   "source": [
    "my_string = \"Hello, World!\"\n",
    "print(my_string[0])  # Output: H\n",
    "print(my_string[7])  # Output: W\n",
    "\n",
    "# Negative indexing\n",
    "print(my_string[-1])  # Output: !\n",
    "print(my_string[-8])  # Output: W"
   ]
  },
  {
   "cell_type": "markdown",
   "metadata": {},
   "source": [
    "Slicing Strings"
   ]
  },
  {
   "cell_type": "code",
   "execution_count": null,
   "metadata": {},
   "outputs": [
    {
     "name": "stdout",
     "output_type": "stream",
     "text": [
      "Hello\n",
      "World\n",
      "Hello\n",
      "World!\n",
      "Hello, World!\n",
      "!dlroW ,olleH\n"
     ]
    }
   ],
   "source": [
    "my_string = \"Hello, World!\"\n",
    "print(my_string[0:5])  # Output: Hello\n",
    "print(my_string[7:12])  # Output: World\n",
    "print(my_string[:5])  # Output: Hello\n",
    "print(my_string[7:])  # Output: World!\n",
    "print(my_string[:])  # Output: Hello, World!\n",
    "print(my_string[::-1])  # Output: !dlroW ,olleH"
   ]
  },
  {
   "cell_type": "markdown",
   "metadata": {},
   "source": [
    "Commonly Used String Methods\n",
    "* len() method returns the length of the string.\n",
    "\n",
    "* upper() and lower() methods convert the string to uppercase and lowercase respectively.\n",
    "\n",
    "* strip() method removes the leading and trailing whitespaces.\n",
    "\n",
    "* split() method splits the string into a list of substrings based on delimiter.\n",
    "\n",
    "* '+' operator is used for string concaenation."
   ]
  },
  {
   "cell_type": "code",
   "execution_count": null,
   "metadata": {},
   "outputs": [
    {
     "name": "stdout",
     "output_type": "stream",
     "text": [
      "13\n"
     ]
    }
   ],
   "source": [
    "# Length of a String\n",
    "my_string = \"Hello, World!\"\n",
    "print(len(my_string))  # Output: 13"
   ]
  },
  {
   "cell_type": "code",
   "execution_count": null,
   "metadata": {},
   "outputs": [
    {
     "name": "stdout",
     "output_type": "stream",
     "text": [
      "HELLO, WORLD!\n",
      "hello, world!\n"
     ]
    }
   ],
   "source": [
    "# Converting to Uppercase and Lowercase\n",
    "my_string = \"Hello, World!\"\n",
    "print(my_string.upper())  # Output: HELLO, WORLD!\n",
    "print(my_string.lower())  # Output: hello, world!"
   ]
  },
  {
   "cell_type": "code",
   "execution_count": null,
   "metadata": {},
   "outputs": [
    {
     "name": "stdout",
     "output_type": "stream",
     "text": [
      "Hello, World!\n"
     ]
    }
   ],
   "source": [
    "# Removing Whitespace\n",
    "my_string = \"   Hello, World!   \"\n",
    "print(my_string.strip())  # Output: Hello, World!"
   ]
  },
  {
   "cell_type": "code",
   "execution_count": null,
   "metadata": {},
   "outputs": [
    {
     "name": "stdout",
     "output_type": "stream",
     "text": [
      "['Hello', ' World!']\n"
     ]
    }
   ],
   "source": [
    "# String Splitting\n",
    "my_string = \"Hello, World!\"\n",
    "print(my_string.split(','))  # Here comma is the delimiter"
   ]
  },
  {
   "cell_type": "code",
   "execution_count": null,
   "metadata": {},
   "outputs": [
    {
     "name": "stdout",
     "output_type": "stream",
     "text": [
      "Hello, World!\n"
     ]
    }
   ],
   "source": [
    "# String Concatenation\n",
    "string1 = \"Hello\"\n",
    "string2 = \"World\"\n",
    "result = string1 + \", \" + string2 + \"!\"\n",
    "print(result)  # Output: Hello, World!"
   ]
  },
  {
   "cell_type": "markdown",
   "metadata": {},
   "source": [
    "### Dictionary in Python\n",
    "* Dictionary is a collection of key-value pairs. \n",
    "\n",
    "* It is unordered, changeable, and does not allow duplicate keys.\n",
    "\n",
    "* It is defined using curly braces '{}'.\n",
    "\n",
    "* Syntax:\n",
    "\n",
    "    {\n",
    "        \n",
    "        key1: value1,\n",
    "\n",
    "        key2: value2,\n",
    "\n",
    "        ...\n",
    "\n",
    "    }"
   ]
  },
  {
   "cell_type": "markdown",
   "metadata": {},
   "source": [
    "Creating Dictionary"
   ]
  },
  {
   "cell_type": "code",
   "execution_count": 1,
   "metadata": {},
   "outputs": [
    {
     "name": "stdout",
     "output_type": "stream",
     "text": [
      "{}\n",
      "<class 'dict'>\n"
     ]
    }
   ],
   "source": [
    "# Empty dictionary\n",
    "empty_dict = {}\n",
    "print(empty_dict)  # Output: {}\n",
    "print(type(empty_dict))"
   ]
  },
  {
   "cell_type": "code",
   "execution_count": 12,
   "metadata": {},
   "outputs": [
    {
     "name": "stdout",
     "output_type": "stream",
     "text": [
      "{'name': 'John', 'age': 20, 'courses': ['Math', 'Science', 'History']}\n"
     ]
    }
   ],
   "source": [
    "# Creating non-empty dictionary\n",
    "student = {\n",
    "    \"name\": \"John\",\n",
    "    \"age\": 20,\n",
    "    \"courses\": [\"Math\", \"Science\", \"History\"]\n",
    "}\n",
    "print(student)"
   ]
  },
  {
   "cell_type": "markdown",
   "metadata": {},
   "source": [
    "Accessing Values Using Keys"
   ]
  },
  {
   "cell_type": "code",
   "execution_count": 13,
   "metadata": {},
   "outputs": [
    {
     "name": "stdout",
     "output_type": "stream",
     "text": [
      "John\n",
      "20\n",
      "['Math', 'Science', 'History']\n"
     ]
    }
   ],
   "source": [
    "print(student[\"name\"]) \n",
    "print(student[\"age\"])\n",
    "print(student[\"courses\"])"
   ]
  },
  {
   "cell_type": "markdown",
   "metadata": {},
   "source": [
    "Accesssing Values Using get() Method\n",
    "* When we use get() method, we can pass default value so that it will not raise any error even when the key is not present."
   ]
  },
  {
   "cell_type": "code",
   "execution_count": 14,
   "metadata": {},
   "outputs": [
    {
     "name": "stdout",
     "output_type": "stream",
     "text": [
      "John\n",
      "Unknown\n",
      "20\n",
      "['Math', 'Science', 'History']\n"
     ]
    }
   ],
   "source": [
    "print(student.get(\"name\"))\n",
    "print(student.get(\"address\", \"Unknown\"))\n",
    "print(student.get(\"age\"))\n",
    "print(student.get(\"courses\"))"
   ]
  },
  {
   "cell_type": "markdown",
   "metadata": {},
   "source": [
    "Adding new key-value pairs"
   ]
  },
  {
   "cell_type": "code",
   "execution_count": 11,
   "metadata": {},
   "outputs": [
    {
     "name": "stdout",
     "output_type": "stream",
     "text": [
      "Student dictionary after adding address: \n",
      "{'name': 'John', 'age': 20, 'courses': ['Math', 'Science', 'History'], 'address': 'Bhaktapur'}\n"
     ]
    }
   ],
   "source": [
    "student[\"address\"] = \"Bhaktapur\"  \n",
    "print(f\"Student dictionary after adding address: \\n{student}\")"
   ]
  },
  {
   "cell_type": "markdown",
   "metadata": {},
   "source": [
    "Updating an Existing Key-Value Pair"
   ]
  },
  {
   "cell_type": "code",
   "execution_count": 16,
   "metadata": {},
   "outputs": [
    {
     "name": "stdout",
     "output_type": "stream",
     "text": [
      "Student dictionary after updating address: \n",
      "{'name': 'John', 'age': 20, 'courses': ['Math', 'Science', 'History'], 'address': 'Kathmandu'}\n"
     ]
    }
   ],
   "source": [
    "student[\"address\"] = \"Kathmandu\"\n",
    "print(f\"Student dictionary after updating address: \\n{student}\")"
   ]
  },
  {
   "cell_type": "markdown",
   "metadata": {},
   "source": [
    "Removing dictionary items\n",
    "* Using 'del' statement\n",
    "\n",
    "* Using pop() method"
   ]
  },
  {
   "cell_type": "code",
   "execution_count": 17,
   "metadata": {},
   "outputs": [
    {
     "name": "stdout",
     "output_type": "stream",
     "text": [
      "student dictionary after deleting age: \n",
      " {'name': 'John', 'courses': ['Math', 'Science', 'History'], 'address': 'Kathmandu'}\n",
      "Student dictionary after deleting address: \n",
      "{'name': 'John', 'courses': ['Math', 'Science', 'History']}\n"
     ]
    }
   ],
   "source": [
    "del student['age']\n",
    "print(f\"student dictionary after deleting age: \\n {student}\")\n",
    "\n",
    "address = student.pop('address', \"Not Found\")  # pop() method removes the item with the specified key name and we can specify a default value\n",
    "print(f\"Student dictionary after deleting address: \\n{student}\")"
   ]
  },
  {
   "cell_type": "markdown",
   "metadata": {},
   "source": [
    "Frequently Used Dictionary Methods"
   ]
  },
  {
   "cell_type": "markdown",
   "metadata": {},
   "source": [
    "keys(): Returns a view object containing the dictionary’s keys"
   ]
  },
  {
   "cell_type": "code",
   "execution_count": 22,
   "metadata": {},
   "outputs": [
    {
     "name": "stdout",
     "output_type": "stream",
     "text": [
      "dict_keys(['name', 'age', 'courses'])\n"
     ]
    }
   ],
   "source": [
    "student = {\n",
    "    \"name\": \"John\",\n",
    "    \"age\": 20,\n",
    "    \"courses\": [\"Math\", \"Science\", \"History\"]\n",
    "}\n",
    "\n",
    "keys = student.keys()\n",
    "print(keys)\n",
    "\n",
    "\n",
    "# Here we could see that the keys() method returns a list of all the keys in the dictionary. \n",
    "# Since it is a list i.e. sequence data type, we can use the index operator to access the values and also loop through them"
   ]
  },
  {
   "cell_type": "markdown",
   "metadata": {},
   "source": [
    "values(): Returns a view object containing the dictionary’s values."
   ]
  },
  {
   "cell_type": "code",
   "execution_count": 21,
   "metadata": {},
   "outputs": [
    {
     "name": "stdout",
     "output_type": "stream",
     "text": [
      "dict_values(['John', 20, ['Math', 'Science', 'History']])\n"
     ]
    }
   ],
   "source": [
    "values = student.values()\n",
    "print(values)\n",
    "\n",
    "# Here we could see that the values() method returns a list of all the values in the dictionary. \n",
    "# Since it is a list i.e. sequence data type, we can use the index operator to access the values and also loop through them"
   ]
  },
  {
   "cell_type": "markdown",
   "metadata": {},
   "source": [
    "items(): Returns a view object containing the dictionary’s key-value pairs."
   ]
  },
  {
   "cell_type": "code",
   "execution_count": 23,
   "metadata": {},
   "outputs": [
    {
     "name": "stdout",
     "output_type": "stream",
     "text": [
      "dict_items([('name', 'John'), ('age', 20), ('courses', ['Math', 'Science', 'History'])])\n"
     ]
    }
   ],
   "source": [
    "items = student.items()\n",
    "print(items)\n",
    "\n",
    "# Here we could see that the items() method returns a list of tuples of all the key-value pairs in the dictionary. \n",
    "# Since it is a list i.e. sequence data type, we can use the index operator to access the key-value pairs and also loop through them"
   ]
  },
  {
   "cell_type": "markdown",
   "metadata": {},
   "source": [
    "Looping Through key-value pairs\n",
    "\n",
    "* Before going through looping over please go through the section \"for loop in python\" below and come back here."
   ]
  },
  {
   "cell_type": "code",
   "execution_count": 24,
   "metadata": {},
   "outputs": [
    {
     "name": "stdout",
     "output_type": "stream",
     "text": [
      "Key: name, Value: John\n",
      "Key: age, Value: 20\n",
      "Key: courses, Value: ['Math', 'Science', 'History']\n"
     ]
    }
   ],
   "source": [
    "for key, value in student.items():\n",
    "    print(f\"Key: {key}, Value: {value}\")"
   ]
  },
  {
   "cell_type": "code",
   "execution_count": 25,
   "metadata": {},
   "outputs": [
    {
     "name": "stdout",
     "output_type": "stream",
     "text": [
      "John\n",
      "20\n",
      "['Math', 'Science', 'History']\n"
     ]
    }
   ],
   "source": [
    "# Looping through value only\n",
    "for value in student.values():\n",
    "    print(value)"
   ]
  },
  {
   "cell_type": "markdown",
   "metadata": {},
   "source": [
    "### for Loops in Python\n",
    "\n",
    "* The for loop in Python is used to iterate over a sequence (such as a list, tuple, string, or range). \n",
    "\n",
    "* It allows you to execute a block of code multiple times, once for each item in the sequence."
   ]
  },
  {
   "cell_type": "markdown",
   "metadata": {},
   "source": [
    "Basic Syntax"
   ]
  },
  {
   "cell_type": "code",
   "execution_count": null,
   "metadata": {},
   "outputs": [],
   "source": [
    "sequence = []\n",
    "for item in sequence:\n",
    "    # Code block to be executed\n",
    "    pass   # pass statement is used to indicate that the code block is empty"
   ]
  },
  {
   "cell_type": "markdown",
   "metadata": {},
   "source": [
    "Looping over a list"
   ]
  },
  {
   "cell_type": "code",
   "execution_count": null,
   "metadata": {},
   "outputs": [
    {
     "name": "stdout",
     "output_type": "stream",
     "text": [
      "apple\n",
      "banana\n",
      "cherry\n"
     ]
    }
   ],
   "source": [
    "fruits = [\"apple\", \"banana\", \"cherry\"]\n",
    "\n",
    "for fruit in fruits:\n",
    "    print(fruit)"
   ]
  },
  {
   "cell_type": "markdown",
   "metadata": {},
   "source": [
    "Looping over a string"
   ]
  },
  {
   "cell_type": "code",
   "execution_count": null,
   "metadata": {},
   "outputs": [
    {
     "name": "stdout",
     "output_type": "stream",
     "text": [
      "h\n",
      "e\n",
      "l\n",
      "l\n",
      "o\n"
     ]
    }
   ],
   "source": [
    "for char in \"hello\":\n",
    "    print(char)"
   ]
  },
  {
   "cell_type": "markdown",
   "metadata": {},
   "source": [
    "Using range() Function\n",
    "* The range() function generates a sequence of numbers."
   ]
  },
  {
   "cell_type": "code",
   "execution_count": null,
   "metadata": {},
   "outputs": [
    {
     "name": "stdout",
     "output_type": "stream",
     "text": [
      "0\n",
      "1\n",
      "2\n",
      "3\n",
      "4\n"
     ]
    }
   ],
   "source": [
    "for i in range(5):\n",
    "    print(i)"
   ]
  },
  {
   "cell_type": "code",
   "execution_count": null,
   "metadata": {},
   "outputs": [
    {
     "name": "stdout",
     "output_type": "stream",
     "text": [
      "2\n",
      "4\n",
      "6\n",
      "8\n"
     ]
    }
   ],
   "source": [
    "# Specifying Start, Stop, and Step in range()\n",
    "\n",
    "for i in range(2, 10, 2):\n",
    "    print(i)"
   ]
  },
  {
   "cell_type": "markdown",
   "metadata": {},
   "source": [
    "Using 'enumerate()'\n",
    "\n",
    "* enumerate() function adds a counter to the iteration, useful for obtaining both the index and the value."
   ]
  },
  {
   "cell_type": "code",
   "execution_count": null,
   "metadata": {},
   "outputs": [
    {
     "name": "stdout",
     "output_type": "stream",
     "text": [
      "Index 0: apple\n",
      "Index 1: banana\n",
      "Index 2: cherry\n"
     ]
    }
   ],
   "source": [
    "fruits = [\"apple\", \"banana\", \"cherry\"]\n",
    "for index, fruit in enumerate(fruits):\n",
    "    print(f\"Index {index}: {fruit}\")"
   ]
  },
  {
   "cell_type": "markdown",
   "metadata": {},
   "source": [
    "break Statement\n",
    "\n",
    "* break statement exits the loop prematurely."
   ]
  },
  {
   "cell_type": "code",
   "execution_count": null,
   "metadata": {},
   "outputs": [
    {
     "name": "stdout",
     "output_type": "stream",
     "text": [
      "0\n",
      "1\n",
      "2\n",
      "3\n",
      "4\n"
     ]
    }
   ],
   "source": [
    "for num in range(10):\n",
    "    if num == 5:\n",
    "        break\n",
    "    print(num)"
   ]
  },
  {
   "cell_type": "markdown",
   "metadata": {},
   "source": [
    "continue Statement\n",
    "\n",
    "* 'continue statement skips the current iteration and moves to the next."
   ]
  },
  {
   "cell_type": "code",
   "execution_count": null,
   "metadata": {},
   "outputs": [
    {
     "name": "stdout",
     "output_type": "stream",
     "text": [
      "0\n",
      "1\n",
      "2\n",
      "3\n",
      "4\n",
      "6\n",
      "7\n",
      "8\n",
      "9\n"
     ]
    }
   ],
   "source": [
    "for num in range(10):\n",
    "    if num == 5:\n",
    "        continue\n",
    "    print(num)"
   ]
  },
  {
   "cell_type": "markdown",
   "metadata": {},
   "source": [
    "Nested for Loops\n",
    "\n",
    "* You can use nested for loops to iterate over nested sequences, such as lists of lists."
   ]
  },
  {
   "cell_type": "code",
   "execution_count": null,
   "metadata": {},
   "outputs": [
    {
     "name": "stdout",
     "output_type": "stream",
     "text": [
      "1\n",
      "2\n",
      "3\n",
      "4\n",
      "5\n",
      "6\n",
      "7\n",
      "8\n",
      "9\n"
     ]
    }
   ],
   "source": [
    "nested_list = [[1, 2, 3], [4, 5, 6], [7, 8, 9]]\n",
    "for sublist in nested_list:\n",
    "    for item in sublist:\n",
    "        print(item)"
   ]
  },
  {
   "cell_type": "markdown",
   "metadata": {},
   "source": [
    "### while Loops in Python\n",
    "* Similar to for loops, while loops are used to execute a block of code repeatedly until the condition is satisfied.\n",
    "\n",
    "* Syntax:\n",
    "\n",
    "        while condition:\n",
    "            # body of while loop\n",
    "\n",
    "* We can use break and continue statements same as in for loop.\n"
   ]
  },
  {
   "cell_type": "code",
   "execution_count": 1,
   "metadata": {},
   "outputs": [
    {
     "name": "stdout",
     "output_type": "stream",
     "text": [
      "1\n",
      "2\n",
      "3\n",
      "4\n",
      "5\n"
     ]
    }
   ],
   "source": [
    "i = 1\n",
    "while i <= 5:\n",
    "    print(i)\n",
    "    i += 1"
   ]
  }
 ],
 "metadata": {
  "kernelspec": {
   "display_name": "Python 3",
   "language": "python",
   "name": "python3"
  },
  "language_info": {
   "codemirror_mode": {
    "name": "ipython",
    "version": 3
   },
   "file_extension": ".py",
   "mimetype": "text/x-python",
   "name": "python",
   "nbconvert_exporter": "python",
   "pygments_lexer": "ipython3",
   "version": "3.10.12"
  }
 },
 "nbformat": 4,
 "nbformat_minor": 2
}
