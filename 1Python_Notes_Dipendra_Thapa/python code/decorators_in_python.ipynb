{
 "cells": [
  {
   "cell_type": "markdown",
   "metadata": {},
   "source": [
    "### Generators in Python\n",
    "\n",
    "* Generator is a function that returns an iterator that produces a sequence of values when iterated over.\n",
    "\n",
    "* Generators are useful when we want to produce a large sequence of values, but we don't want to store all of them in memory at once.\n",
    "\n",
    "* Generators generate values on the fly and can be iterated over only once.\n",
    "\n",
    "* Benefits: \n",
    "\n",
    "    * Memory Efficiency: Generators are memory-efficient because they yield items one at a time and do not store the entire sequence in memory.\n",
    "\n",
    "    * Lazy Evaluation: Generators generate items only when requested, which can improve performance when dealing with large datasets.\n",
    "\n",
    "\n"
   ]
  },
  {
   "cell_type": "code",
   "execution_count": 1,
   "metadata": {},
   "outputs": [
    {
     "name": "stdout",
     "output_type": "stream",
     "text": [
      "1\n",
      "2\n",
      "3\n"
     ]
    }
   ],
   "source": [
    "# note: Simple Generator\n",
    "def generats():\n",
    "    yield 1\n",
    "    yield 2\n",
    "    yield 3\n",
    "\n",
    "gen = generats()\n",
    "print(next(gen))\n",
    "print(next(gen))\n",
    "print(next(gen))"
   ]
  },
  {
   "cell_type": "markdown",
   "metadata": {},
   "source": [
    "#### Creating Generator using Generator Function\n",
    "* A generator function is defined like a normal function but uses the yield statement to return data instead of return statement. \n",
    "\n",
    "* When yield is called, the function's state is saved, and the value is returned to the caller. The function can be resumed later from where it left off."
   ]
  },
  {
   "cell_type": "code",
   "execution_count": 2,
   "metadata": {},
   "outputs": [
    {
     "name": "stdout",
     "output_type": "stream",
     "text": [
      "0\n",
      "1\n",
      "1\n",
      "2\n",
      "3\n",
      "5\n",
      "8\n"
     ]
    }
   ],
   "source": [
    "# note: Fibonacci Series Generator\n",
    "def fibonacci():\n",
    "    a, b = 0, 1\n",
    "    while True:\n",
    "        yield a\n",
    "        a, b = b, a+b\n",
    "\n",
    "fib = fibonacci()\n",
    "for _ in range(7):\n",
    "    print(next(fib))"
   ]
  },
  {
   "cell_type": "markdown",
   "metadata": {},
   "source": [
    "#### Creating Generators Using Expression\n",
    "\n",
    "* Generator expression is a concise way to create a generator object.\n",
    "\n",
    "* It is similar to a list comprehension, but instead of creating a list, it creates a generator object that can be iterated over to produce the values in the generator.\n",
    "\n",
    "* It uses parenthesis () instead of square bracket.\n",
    "* Syntax: \n",
    "\n",
    "        (expression for item in iterable)"
   ]
  },
  {
   "cell_type": "code",
   "execution_count": 3,
   "metadata": {},
   "outputs": [
    {
     "name": "stdout",
     "output_type": "stream",
     "text": [
      "[0, 1, 4, 9, 16]\n",
      "<generator object <genexpr> at 0x7ded1c23b840>\n",
      "0\n",
      "1\n",
      "4\n",
      "9\n",
      "16\n"
     ]
    }
   ],
   "source": [
    "# note: Generator Expression\n",
    "# simple expression i.e List Comprehension\n",
    "square_list = [x**2 for x in range(5)]\n",
    "\n",
    "# Generator Expression\n",
    "square_gen = (x**2 for x in range(5))\n",
    "\n",
    "# printing simple list\n",
    "print(square_list)\n",
    "\n",
    "# printing generator list\n",
    "print(square_gen)\n",
    "\n",
    "# iterating expression\n",
    "for _ in square_gen:\n",
    "    print(_)"
   ]
  }
 ],
 "metadata": {
  "kernelspec": {
   "display_name": "Python 3",
   "language": "python",
   "name": "python3"
  },
  "language_info": {
   "codemirror_mode": {
    "name": "ipython",
    "version": 3
   },
   "file_extension": ".py",
   "mimetype": "text/x-python",
   "name": "python",
   "nbconvert_exporter": "python",
   "pygments_lexer": "ipython3",
   "version": "3.10.12"
  }
 },
 "nbformat": 4,
 "nbformat_minor": 2
}
