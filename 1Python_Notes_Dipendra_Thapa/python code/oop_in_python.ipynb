{
 "cells": [
  {
   "cell_type": "markdown",
   "metadata": {},
   "source": [
    "## Object Oriented Programming in Python (OOPs)\n",
    "\n",
    "* Objectives:\n",
    "\n",
    "    1. Trace the details of instantiation and attribute resolution on class objects and instance objects.\n",
    "\n",
    "    2. Create classes with custom methods, including initializers and decorated properties.\n",
    "    \n",
    "    3. Analyze object-based design patterns, including polymorphism (through magic methods) and inheritance."
   ]
  },
  {
   "cell_type": "markdown",
   "metadata": {},
   "source": [
    "### Key Concepts\n",
    "\n",
    "* Class: A blueprint for creating objects (a particular data structure).\n",
    "\n",
    "* Object: An instance of a class.\n",
    "\n",
    "* Attributes: Variables that belong to an object or class. It represent **STATE/CONTEXT OF OBJECT**.\n",
    "\n",
    "* Methods: Functions that belong to an object or class.\n",
    "\n",
    "* Inheritance: Mechanism to create a new class using the properties and methods of an existing class.\n",
    "\n",
    "* Encapsulation: Bundling data and methods within a class.\n",
    "\n",
    "* Polymorphism: Ability to present the same interface for different data types.\n",
    "\n",
    "* Abstraction: Mechanism to hide the complex implementation details and showing only the essential features of the object.\n",
    "\n",
    "* Constructor__init__(): It is the special method which is called automatically when a new object is created. It is used for initializing the object's atribute. "
   ]
  },
  {
   "cell_type": "markdown",
   "metadata": {},
   "source": [
    "### Creating our First Class\n",
    "\n",
    "* Syntax:\n",
    "\n",
    "        class ClassName:\n",
    "        \n",
    "            # class attributes section\n",
    "\n",
    "            # class methods section"
   ]
  },
  {
   "cell_type": "code",
   "execution_count": 66,
   "metadata": {},
   "outputs": [
    {
     "name": "stdout",
     "output_type": "stream",
     "text": [
      "I am constructor and I have initialized all the attributes of the object\n",
      "Book Title: Python\n",
      "Book Author: Guido van Rossum\n",
      "Book Pages: 500\n",
      "Book Price: 100\n",
      "Book Discount: 10\n",
      "Book Selling Price: 90.0\n"
     ]
    }
   ],
   "source": [
    "# Let's create our first class\n",
    "class Book:\n",
    "    # Object attributes are initialized inside the constructor __init__ method\n",
    "    def __init__(self, title, author, pages, price, discount):\n",
    "        self.title = title\n",
    "        self.author = author\n",
    "        self.pages = pages\n",
    "        self.price = price\n",
    "        self.discount = discount\n",
    "        self.selling_price = None\n",
    "        print(\"I am constructor and I have initialized all the attributes of the object\")\n",
    "        \n",
    "    # Class methods\n",
    "    def calculate_selling_price(self):\n",
    "        \n",
    "        sp = self.price * (1 - self.discount / 100)  \n",
    "        \n",
    "        self.selling_price = sp  \n",
    "\n",
    "# Let's create an object\n",
    "book1 = Book('Python', 'Guido van Rossum', 500, 100, 10) \n",
    "\n",
    "# Accessing object attributes/properties\n",
    "print(f\"Book Title: {book1.title}\")\n",
    "print(f\"Book Author: {book1.author}\")\n",
    "print(f\"Book Pages: {book1.pages}\")\n",
    "print(f\"Book Price: {book1.price}\")\n",
    "print(f\"Book Discount: {book1.discount}\")\n",
    "\n",
    "# Accessing class methods\n",
    "book1.calculate_selling_price()\n",
    "print(f\"Book Selling Price: {book1.selling_price}\")"
   ]
  },
  {
   "cell_type": "markdown",
   "metadata": {},
   "source": [
    "### What is self ??\n",
    "\n",
    "* It is a reference to the instance of the class.\n",
    "\n",
    "* It ensures that whenever we call the method, the method is operating on particular object attributes and methods."
   ]
  },
  {
   "cell_type": "code",
   "execution_count": 67,
   "metadata": {},
   "outputs": [
    {
     "name": "stdout",
     "output_type": "stream",
     "text": [
      "Object created:  <__main__.Book object at 0x74f2c80e8100>\n",
      "Object created:  <__main__.Book object at 0x74f2c80e8220>\n"
     ]
    }
   ],
   "source": [
    "class Book:\n",
    "    # Object attributes are initialized inside the constructor __init__ method\n",
    "    def __init__(self, title, author, pages, price, discount):\n",
    "        self.title = title\n",
    "        self.author = author\n",
    "        self.pages = pages\n",
    "        self.price = price\n",
    "        self.discount = discount\n",
    "        self.selling_price = None\n",
    "        print('Object created: ', self)\n",
    "        \n",
    "    # Class methods\n",
    "    def calculate_selling_price(self):\n",
    "        \n",
    "        sp = self.price * (1 - self.discount / 100)\n",
    "        \n",
    "        self.selling_price = sp\n",
    "        \n",
    "        \n",
    "# Instance creation\n",
    "book1 = Book('Python', 'Guido van Rossum', 500, 100, 10)\n",
    "book2 = Book('Java', 'James Gosling', 800, 150, 15)"
   ]
  },
  {
   "cell_type": "markdown",
   "metadata": {},
   "source": [
    "### Inheritance in Python\n",
    "\n",
    "* Using inheritance, we will create new class from the existing class by inheriting properties of existing class.\n",
    "\n",
    "* The existing class is called parent class or super class whereas the new inherited class is called child class or sub class.\n",
    "\n",
    "* This promotes code reusability and a hierarchical class structure.\n",
    "\n",
    "* This extends the functionality of existing classes.\n",
    "\n",
    "* super() function allows you to call methods from the superclass in your subclass."
   ]
  },
  {
   "cell_type": "code",
   "execution_count": 68,
   "metadata": {},
   "outputs": [],
   "source": [
    "# Syntax\n",
    "class ParentClass:\n",
    "    pass\n",
    "\n",
    "class ChildClass(ParentClass):\n",
    "    pass"
   ]
  },
  {
   "cell_type": "markdown",
   "metadata": {},
   "source": [
    "### Types of Inheritance\n",
    "\n",
    "* Single Inheritance\n",
    "    * A subclass inherits from one superclass.\n",
    "\n",
    "* Multiple Inheritance: \n",
    "\n",
    "    * A subclass inherits from more than one superclass.\n",
    "\n",
    "* Multilevel Inheritance: \n",
    "\n",
    "    * A class is derived from a class which is also derived from another class.\n",
    "\n",
    "* Hierarchical Inheritance: \n",
    "\n",
    "    * Multiple subclasses inherit from a single superclass."
   ]
  },
  {
   "cell_type": "code",
   "execution_count": 69,
   "metadata": {},
   "outputs": [
    {
     "name": "stdout",
     "output_type": "stream",
     "text": [
      "Father eats Banana\n",
      "Father walks\n",
      "Child eats Apple\n"
     ]
    }
   ],
   "source": [
    "# note: Single Inheritance\n",
    "class Father():\n",
    "    def eat(self):\n",
    "        print(\"Father eats Banana\")\n",
    "        \n",
    "    def walk(self):\n",
    "        print(\"Father walks\")\n",
    "        \n",
    "class Child(Father):\n",
    "    def eats(self):\n",
    "        print(\"Child eats Apple\")\n",
    "\n",
    "child1 = Child()\n",
    "\n",
    "child1.eat()\n",
    "child1.walk()\n",
    "child1.eats()"
   ]
  },
  {
   "cell_type": "code",
   "execution_count": 70,
   "metadata": {},
   "outputs": [
    {
     "name": "stdout",
     "output_type": "stream",
     "text": [
      "Son's Name is:  virat\n",
      "Father's Name is:  Ravi\n",
      "Mother's Name is:  Rani\n"
     ]
    }
   ],
   "source": [
    "# note: Multiple Inheritance\n",
    "class Father():\n",
    "    father_Name = \"\"\n",
    "    def father(self):\n",
    "        print(self.father_Name)\n",
    "\n",
    "class Mother():\n",
    "    mother_Name = \"\"\n",
    "    def mother(self):\n",
    "        print(self.mother_Name)\n",
    "\n",
    "class Son(Father, Mother):\n",
    "    def __init__(self, name='virat'):\n",
    "        self.name = name\n",
    "        print(\"Son's Name is: \", self.name)\n",
    "        \n",
    "    def details(self):\n",
    "        print(\"Father's Name is: \", self.father_Name)\n",
    "        print(\"Mother's Name is: \", self.mother_Name)\n",
    "\n",
    "son1 = Son()\n",
    "son1.father_Name = \"Ravi\"\n",
    "son1.mother_Name = \"Rani\"\n",
    "son1.details()\n"
   ]
  },
  {
   "cell_type": "code",
   "execution_count": 71,
   "metadata": {},
   "outputs": [
    {
     "name": "stdout",
     "output_type": "stream",
     "text": [
      "Grandfather name : dipen\n",
      "Father name : dipendra\n",
      "Daughter name : deepsikha\n"
     ]
    }
   ],
   "source": [
    "# note: Multilevel Inheritance\n",
    "class GrandFather():\n",
    "    def __init__(self, grandfathername):\n",
    "        self.grandfathername = grandfathername\n",
    "\n",
    "class Father(GrandFather):\n",
    "    def __init__(self, fathername, grandfathername):\n",
    "        self.fathername = fathername\n",
    "        \n",
    "        GrandFather.__init__(self, grandfathername)\n",
    "    \n",
    "class Daughter(Father):\n",
    "    def __init__(self, daughtername, fathername, grandfathername):\n",
    "        self.daughtername = daughtername\n",
    "        \n",
    "        Father.__init__(self, fathername, grandfathername)\n",
    "        \n",
    "    def print_details(self):\n",
    "        print(\"Grandfather name :\", self.grandfathername)\n",
    "        print(\"Father name :\", self.fathername)\n",
    "        print(\"Daughter name :\", self.daughtername)\n",
    "\n",
    "daughter1 = Daughter('deepsikha', 'dipendra', 'dipen')\n",
    "daughter1.print_details()"
   ]
  },
  {
   "cell_type": "code",
   "execution_count": 72,
   "metadata": {},
   "outputs": [
    {
     "name": "stdout",
     "output_type": "stream",
     "text": [
      "--------Child1-----------\n",
      "ParentClass Food is Chowmein.\n",
      "Child1 Food is Burger.\n",
      "--------Child2-----------\n",
      "ParentClass Food is Chowmein.\n",
      "Child2 Food is Pizza.\n"
     ]
    }
   ],
   "source": [
    "# note: Hierarchical Inheritance\n",
    "class ParentClasss():\n",
    "    def food1(self):\n",
    "        print(\"ParentClass Food is Chowmein.\")\n",
    "\n",
    "class Child1(ParentClasss):\n",
    "    def food2(self):\n",
    "        print(\"Child1 Food is Burger.\")\n",
    "\n",
    "class Child2(ParentClasss):\n",
    "    def food3(self):\n",
    "        print(\"Child2 Food is Pizza.\")\n",
    "\n",
    "children1 = Child1()\n",
    "children2 = Child2()\n",
    "\n",
    "print(\"--------Child1-----------\")\n",
    "children1.food1()\n",
    "children1.food2()\n",
    "\n",
    "print(\"--------Child2-----------\")\n",
    "children2.food1()\n",
    "children2.food3() "
   ]
  },
  {
   "cell_type": "markdown",
   "metadata": {},
   "source": [
    "### Polymorphism in Python\n",
    "\n",
    "*  Polymorphisms refer to the occurrence of something in multiple forms. \n",
    "\n",
    "* Examples: \n",
    "\n",
    "    * Operator overloading\n",
    "\n",
    "    * Method Overriding\n",
    "\n",
    "* Method overriding is not allowed in python.\n"
   ]
  },
  {
   "cell_type": "code",
   "execution_count": 73,
   "metadata": {},
   "outputs": [],
   "source": [
    "# Example of polymorphism\n",
    "\n",
    "# Addition (+) operation has multiple uses and it is called operator overloading\n",
    "\n",
    "sum = 10 + 20 # + is used to add numbers\n",
    "str_cat = \"Hello\" + \" \" + \"World\" # + is used to concatenate strings\n",
    "list_cat = [1, 2, 3] + [4, 5, 6] # + is used to concatenate lists"
   ]
  },
  {
   "cell_type": "markdown",
   "metadata": {},
   "source": [
    "Polymorphism: Method Overriding\n",
    "\n",
    "* In inheritance, we can redefine certain methods and attributes specifically to fit the child class, which is known as Method Overriding."
   ]
  },
  {
   "cell_type": "code",
   "execution_count": 74,
   "metadata": {},
   "outputs": [
    {
     "name": "stdout",
     "output_type": "stream",
     "text": [
      "Dog barks.\n"
     ]
    }
   ],
   "source": [
    "# note: Method Overriding in Polymorphism\n",
    "class Animal():\n",
    "    def sound(self):\n",
    "        print(\"Parent makes a sound.\")\n",
    "\n",
    "class Dog(Animal):\n",
    "    def sound(self):\n",
    "        print(\"Dog barks.\")\n",
    "\n",
    "dog = Dog()\n",
    "dog.sound()"
   ]
  },
  {
   "cell_type": "code",
   "execution_count": 75,
   "metadata": {},
   "outputs": [
    {
     "name": "stdout",
     "output_type": "stream",
     "text": [
      "Drawing a circle.\n",
      "Drawing a square.\n",
      "Drawing a rectangle.\n"
     ]
    }
   ],
   "source": [
    "# note: Polymorphism in Inheritance\n",
    "class Shape:\n",
    "    def draw(self):\n",
    "        raise NotImplementedError(\"Parent class ma kei lekhna paidaina.\")\n",
    "    \n",
    "class Circle(Shape):\n",
    "    def draw(self):\n",
    "        print(\"Drawing a circle.\")\n",
    "        \n",
    "class Square(Shape):\n",
    "    def draw(self):\n",
    "        print(\"Drawing a square.\")\n",
    "\n",
    "class Rectangle(Shape):\n",
    "    def draw(self):\n",
    "        print(\"Drawing a rectangle.\")\n",
    "\n",
    "shapes = [Circle(), Square(), Rectangle()]\n",
    "\n",
    "for shape in shapes:\n",
    "    shape.draw()"
   ]
  },
  {
   "cell_type": "code",
   "execution_count": 76,
   "metadata": {},
   "outputs": [
    {
     "name": "stdout",
     "output_type": "stream",
     "text": [
      "Bhou Bhou!\n",
      "Meow!\n"
     ]
    }
   ],
   "source": [
    "# note: Use of Polymorphism with function\n",
    "def make_sound(animal):\n",
    "    return animal.sound()\n",
    "\n",
    "class Cat:\n",
    "    def sound(self):\n",
    "        return \"Meow!\"\n",
    "    \n",
    "class Dog:\n",
    "    def sound(self):\n",
    "        return \"Bhou Bhou!\"\n",
    "\n",
    "animals = [Dog(), Cat()]\n",
    "\n",
    "for animal in animals:\n",
    "    print(make_sound(animal))"
   ]
  },
  {
   "cell_type": "code",
   "execution_count": 77,
   "metadata": {},
   "outputs": [
    {
     "name": "stdout",
     "output_type": "stream",
     "text": [
      "Nepali\n",
      "Rupaiya\n",
      "Hindi\n",
      "Rupees\n",
      "Chinese\n",
      "Yuan\n"
     ]
    }
   ],
   "source": [
    "# note: Use of polymorphism in Function\n",
    "class Nepal():\n",
    "    def language(self):\n",
    "        print (\"Nepali\")\n",
    "    \n",
    "    def currency(self):\n",
    "        print (\"Rupaiya\")\n",
    "\n",
    "class India():\n",
    "    def language(self):\n",
    "        print (\"Hindi\")\n",
    "    \n",
    "    def currency(self):\n",
    "        print (\"Rupees\")\n",
    "    \n",
    "class China():\n",
    "    def language(self):\n",
    "        print (\"Chinese\")\n",
    "\n",
    "    def currency(self):\n",
    "        print (\"Yuan\")\n",
    "\n",
    "def details(object):\n",
    "    object.language()\n",
    "    object.currency()\n",
    "\n",
    "object_nepal = Nepal()\n",
    "object_india = India()\n",
    "object_china = China()\n",
    "\n",
    "details(object_nepal)\n",
    "details(object_india)\n",
    "details(object_china)"
   ]
  },
  {
   "cell_type": "markdown",
   "metadata": {},
   "source": [
    "### Encapsulation in Python\n",
    "\n",
    "* It describes the idea of wrapping data and the methods that work on data within one unit.\n",
    "\n",
    "* The goal of encapsulation is information hiding.\n",
    "\n",
    "* It uses concept of Access Modifiers:- \n",
    "\n",
    "    * Public\n",
    "\n",
    "        * It can be accessed everywhere in program.\n",
    "\n",
    "    * Protected\n",
    "\n",
    "        * It is denoted by single underscore i.e. '_'.\n",
    "        \n",
    "        * It can be accessed within Parent class and child class.\n",
    "    \n",
    "    * Private\n",
    "    \n",
    "        * It is denoted by double underscore i.e. '__'.\n",
    "        \n",
    "        * It can be accessed within Parent class only.\n"
   ]
  },
  {
   "cell_type": "code",
   "execution_count": 78,
   "metadata": {},
   "outputs": [
    {
     "name": "stdout",
     "output_type": "stream",
     "text": [
      "Name: Karuna\n",
      "Age: 19\n",
      "Salary: 100\n"
     ]
    }
   ],
   "source": [
    "# note: Accessing private data & protected data\n",
    "class Person:\n",
    "    def __init__(self, name, age, salary):\n",
    "        self.name = name\n",
    "        self._age = age\n",
    "        self.__salary = salary\n",
    "    \n",
    "    def display_details(self):\n",
    "        print(f\"Name: {self.name}\")\n",
    "        print(f\"Age: {self._age}\")\n",
    "        self.__display_salary()\n",
    "    \n",
    "    def __display_salary(self):\n",
    "        print(f\"Salary: {self.__salary}\")\n",
    "        \n",
    "person = Person('Karuna',19,100)\n",
    "\n",
    "# print(person.name)\n",
    "# print(person._age)\n",
    "# print(person.__salary)\n",
    "\n",
    "# ?name mangling method\n",
    "# print(person._Person__salary)\n",
    "\n",
    "person.display_details()"
   ]
  },
  {
   "cell_type": "code",
   "execution_count": 79,
   "metadata": {},
   "outputs": [
    {
     "name": "stdout",
     "output_type": "stream",
     "text": [
      "-----Before using setter method-----\n",
      "Dipendra Thapa\n",
      "23\n",
      "-----After using setter method-----\n",
      "Dipendra Thapa Chhetri\n",
      "24\n"
     ]
    }
   ],
   "source": [
    "# note: Accessing private data & protected data using getter & setter method\n",
    "class Student:\n",
    "    def __init__(self, name, age):\n",
    "        self.__name = name  \n",
    "        self.__age = age    \n",
    "\n",
    "    # Getter method for name\n",
    "    def get_name(self):\n",
    "        return self.__name\n",
    "\n",
    "    # Setter method for name\n",
    "    def set_name(self, name):\n",
    "        self.__name = name\n",
    "\n",
    "    # Getter method for age\n",
    "    def get_age(self):\n",
    "        return self.__age\n",
    "\n",
    "    # Setter method for age\n",
    "    def set_age(self, age):\n",
    "        if age > 0:\n",
    "            self.__age = age\n",
    "        else:\n",
    "            print(\"Please enter a valid age\")\n",
    "\n",
    "student = Student(\"Dipendra Thapa\", 23)\n",
    "\n",
    "# Accessing private attributes using getter methods\n",
    "print(\"-----Before using setter method-----\")\n",
    "print(student.get_name()) \n",
    "print(student.get_age())   \n",
    "\n",
    "# Modifying private attributes using setter methods\n",
    "student.set_name(\"Dipendra Thapa Chhetri\")\n",
    "student.set_age(24)\n",
    "\n",
    "# Accessing modified attributes\n",
    "print(\"-----After using setter method-----\")\n",
    "print(student.get_name()) \n",
    "print(student.get_age())  \n",
    "\n",
    "# Trying to set an invalid age\n",
    "# student.set_age(-5)  \n"
   ]
  }
 ],
 "metadata": {
  "kernelspec": {
   "display_name": "Python 3",
   "language": "python",
   "name": "python3"
  },
  "language_info": {
   "codemirror_mode": {
    "name": "ipython",
    "version": 3
   },
   "file_extension": ".py",
   "mimetype": "text/x-python",
   "name": "python",
   "nbconvert_exporter": "python",
   "pygments_lexer": "ipython3",
   "version": "3.10.12"
  }
 },
 "nbformat": 4,
 "nbformat_minor": 2
}
