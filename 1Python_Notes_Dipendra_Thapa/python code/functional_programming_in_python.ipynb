{
 "cells": [
  {
   "cell_type": "markdown",
   "metadata": {},
   "source": [
    "## Functional Programming in Python\n",
    "\n",
    "* Objectives:\n",
    "\n",
    "    1. Create simple function interfaces using advanced arguments types, including keyword arguments and variadic arguments.\n",
    "\n",
    "    2. Create functional programs, using map/filter, reduce, lambdas, iterators, and generators.\n",
    "    \n",
    "    3. Create decorators, high-level tools to transform functional behavior."
   ]
  },
  {
   "cell_type": "markdown",
   "metadata": {},
   "source": [
    "### Functions in Python\n",
    "\n",
    "* Functions in Python are reusable blocks of code designed to perform a specific task.\n",
    "\n",
    "* They help in organizing code, reducing redundancy, and improving readability.\n",
    "\n",
    "* Return:\n",
    "\n",
    "    * Functions can return a value using the return statement.\n",
    "    \n",
    "    * A function without a return statement returns None by default."
   ]
  },
  {
   "cell_type": "code",
   "execution_count": 28,
   "metadata": {},
   "outputs": [],
   "source": [
    "# Syntax\n",
    "\n",
    "# Function definition\n",
    "def function_name(parameters):\n",
    "    \"\"\"Docstring\"\"\"\n",
    "    # body of the function\n",
    "    \n",
    "    # return value\n",
    "    \n",
    "# Function call\n",
    "# function_name(parameters)"
   ]
  },
  {
   "cell_type": "code",
   "execution_count": 5,
   "metadata": {},
   "outputs": [
    {
     "name": "stdout",
     "output_type": "stream",
     "text": [
      "30\n"
     ]
    }
   ],
   "source": [
    "# Example function to add two numbers\n",
    "\n",
    "# Function definition\n",
    "def add_two_numbers(x, y):\n",
    "    \"\"\"This function adds two numbers.\n",
    "    \n",
    "    Arguments:\n",
    "        x: The first number.\n",
    "        y: The second number.\n",
    "        \n",
    "    Returns:\n",
    "        The sum of the two numbers.\n",
    "    \n",
    "    \"\"\"\n",
    "    return x + y\n",
    "\n",
    "# Function call\n",
    "sum = add_two_numbers(10, 20)\n",
    "print(sum)"
   ]
  },
  {
   "cell_type": "markdown",
   "metadata": {},
   "source": [
    "Positional Arguments\n",
    "* Arguments passed to the function in the correct positional order."
   ]
  },
  {
   "cell_type": "code",
   "execution_count": 10,
   "metadata": {},
   "outputs": [
    {
     "name": "stdout",
     "output_type": "stream",
     "text": [
      "30\n"
     ]
    }
   ],
   "source": [
    "# Function definition\n",
    "def add_two_numbers(x, y):\n",
    "    return x + y\n",
    "\n",
    "# Function call with positional arguments\n",
    "sum = add_two_numbers(10, 20) # first argument is 10 i.e. x and second argument is 20 i.e. y\n",
    "print(sum)"
   ]
  },
  {
   "cell_type": "markdown",
   "metadata": {},
   "source": [
    "Keyword Arguments\n",
    "* Arguments passed to the function with their parameter names."
   ]
  },
  {
   "cell_type": "code",
   "execution_count": 11,
   "metadata": {},
   "outputs": [
    {
     "name": "stdout",
     "output_type": "stream",
     "text": [
      "30\n"
     ]
    }
   ],
   "source": [
    "# Function definition\n",
    "def add_two_numbers(x, y):\n",
    "    return x + y\n",
    "\n",
    "# Function call with keyword arguments\n",
    "sum = add_two_numbers(x=10, y=20)\n",
    "print(sum)"
   ]
  },
  {
   "cell_type": "markdown",
   "metadata": {},
   "source": [
    "Default Arguments\n",
    "* Parameters with default values if no argument is provided."
   ]
  },
  {
   "cell_type": "code",
   "execution_count": 13,
   "metadata": {},
   "outputs": [
    {
     "name": "stdout",
     "output_type": "stream",
     "text": [
      "30\n"
     ]
    }
   ],
   "source": [
    "# Function definition\n",
    "\n",
    "# IMP: Parameters with default values should be at the end\n",
    "def add_two_numbers(x, y=10):\n",
    "    return x + y\n",
    "\n",
    "# Function call with keyword arguments\n",
    "sum = add_two_numbers(20)\n",
    "print(sum)"
   ]
  },
  {
   "cell_type": "markdown",
   "metadata": {},
   "source": [
    "### Arbitary Arguments\n",
    "\n",
    "* Using *args and **kwargs to accept a variable number of arguments.\n",
    "\n",
    "* Before learning about *args and *kwargs, we must have good understanding of Unpacking conceps in python.\n"
   ]
  },
  {
   "cell_type": "markdown",
   "metadata": {},
   "source": [
    "Unpacking in Python\n",
    "\n",
    "* Unpacking in Python is a powerful feature that allows you to assign values from a collection (such as a list, tuple, dictionary, etc.) to multiple variables in a single statement. \n",
    "\n",
    "* This feature can simplify your code and make it more readable."
   ]
  },
  {
   "cell_type": "code",
   "execution_count": 14,
   "metadata": {},
   "outputs": [
    {
     "name": "stdout",
     "output_type": "stream",
     "text": [
      "3\n",
      "4\n"
     ]
    }
   ],
   "source": [
    "# Unpacking a tuple\n",
    "point = (3, 4)\n",
    "x, y = point\n",
    "print(x)  \n",
    "print(y)  "
   ]
  },
  {
   "cell_type": "code",
   "execution_count": 15,
   "metadata": {},
   "outputs": [
    {
     "name": "stdout",
     "output_type": "stream",
     "text": [
      "red\n",
      "green\n",
      "blue\n"
     ]
    }
   ],
   "source": [
    "# Unpacking a list\n",
    "colors = [\"red\", \"green\", \"blue\"]\n",
    "r, g, b = colors\n",
    "print(r)  # Output: red\n",
    "print(g)  # Output: green\n",
    "print(b)  # Output: blue"
   ]
  },
  {
   "cell_type": "markdown",
   "metadata": {},
   "source": [
    "Using the * Operator for Extended Unpacking\n",
    "\n",
    "* The * operator allows you to capture multiple items during unpacking."
   ]
  },
  {
   "cell_type": "code",
   "execution_count": 18,
   "metadata": {},
   "outputs": [
    {
     "name": "stdout",
     "output_type": "stream",
     "text": [
      "1\n",
      "2\n",
      "[3, 4, 5]\n"
     ]
    }
   ],
   "source": [
    "# Extended unpacking\n",
    "numbers = [1, 2, 3, 4, 5]\n",
    "first, second, *rest = numbers\n",
    "print(first)  \n",
    "print(second)  \n",
    "print(rest)   "
   ]
  },
  {
   "cell_type": "code",
   "execution_count": 19,
   "metadata": {},
   "outputs": [
    {
     "name": "stdout",
     "output_type": "stream",
     "text": [
      "1\n",
      "[2, 3, 4]\n",
      "5\n"
     ]
    }
   ],
   "source": [
    "# Using * in the middle\n",
    "numbers = [1, 2, 3, 4, 5]\n",
    "first, *middle, last = numbers\n",
    "print(first)  \n",
    "print(middle)  \n",
    "print(last)    "
   ]
  },
  {
   "cell_type": "markdown",
   "metadata": {},
   "source": [
    "'*args' and '**kwargs' in Python\n",
    "\n",
    "* args and **kwargs are used to pass a variable number of arguments to a function. So often called as variadic arguments and variadic functions.\n",
    "\n",
    "* This allows for greater flexibility and enables functions to handle a varying number of input arguments.\n",
    "\n",
    "* Usage: When you are unsure of how many arguments might be passed to a function.\n",
    "\n",
    "* *args allows a function to accept any number of positional arguments.\n",
    "\n",
    "* **kwargs allows a function to accept any number of keyword arguments.\n",
    "\n",
    "* When defining a function that uses *args and **kwargs, the order of parameters should be:\n",
    "\n",
    "        1. Regular positional arguments\n",
    "        2. *args\n",
    "        3. **kwargs"
   ]
  },
  {
   "cell_type": "code",
   "execution_count": 12,
   "metadata": {},
   "outputs": [
    {
     "name": "stdout",
     "output_type": "stream",
     "text": [
      "args: (10, 20, 30, 40, 50)\n",
      "We can notice that args is a list\n",
      "sum, 150\n",
      "args: (10, 20)\n",
      "We can notice that args is a list\n",
      "sum, 30\n",
      "args: ()\n",
      "We can notice that args is a list\n",
      "sum, 0\n"
     ]
    }
   ],
   "source": [
    "# *args in python\n",
    "\n",
    "# Function definition   \n",
    "def add_numbers(*args):\n",
    "    sum = 0\n",
    "    print(\"args:\", args)\n",
    "    print(\"We can notice that args is a tuple\")\n",
    "    \n",
    "    for num in args:\n",
    "        sum = sum + num\n",
    "    return sum\n",
    "\n",
    "# Function call\n",
    "# Here we can pass any number of positional arguments\n",
    "sum = add_numbers(10, 20, 30, 40, 50)\n",
    "print(\"sum: \", sum)  \n",
    "sum = add_numbers(10, 20)\n",
    "print(\"sum: \", sum)  \n",
    "sum = add_numbers()\n",
    "print(\"sum: \", sum)  \n",
    " "
   ]
  },
  {
   "cell_type": "code",
   "execution_count": 19,
   "metadata": {},
   "outputs": [
    {
     "name": "stdout",
     "output_type": "stream",
     "text": [
      "kwargs: {'math': 70, 'english': 80, 'science': 90}\n",
      "We can notice that kwargs is a dictionary\n",
      "3\n",
      "Percentage:  80.0\n",
      "kwargs: {'math': 70, 'english': 80}\n",
      "We can notice that kwargs is a dictionary\n",
      "2\n",
      "Percentage:  75.0\n"
     ]
    }
   ],
   "source": [
    "# **kwargs in python\n",
    "\n",
    "def calculate_percentage(**kwargs):\n",
    "    sum = 0\n",
    "    print(\"kwargs:\", kwargs)\n",
    "    print(\"We can notice that kwargs is a dictionary\")\n",
    "    print(len(kwargs))\n",
    "    for key, value in kwargs.items():\n",
    "        sum = sum + value\n",
    "    return sum / len(kwargs) \n",
    "\n",
    "# Here we can pass any number of keyword arguments\n",
    "percentage = calculate_percentage(math=70, english=80, science=90)\n",
    "print(\"Percentage: \", percentage)\n",
    "\n",
    "percentage = calculate_percentage(math=70, english=80)\n",
    "print(\"Percentage: \", percentage)"
   ]
  },
  {
   "cell_type": "code",
   "execution_count": 26,
   "metadata": {},
   "outputs": [
    {
     "name": "stdout",
     "output_type": "stream",
     "text": [
      "Attributes:\n",
      "- Tall\n",
      "- Blue eyes\n",
      "\n",
      "Details:\n",
      "name: Rob\n",
      "age: 30\n",
      "job: Engineer\n"
     ]
    }
   ],
   "source": [
    "# Combining both *args and **kwargs\n",
    "\n",
    "# Function definition with *args and **kwargs\n",
    "def describe_person(*args, **kwargs):\n",
    "    print(\"Attributes:\")\n",
    "    for arg in args:\n",
    "        print(f\"- {arg}\")\n",
    "    print(\"\\nDetails:\")\n",
    "    for key, value in kwargs.items():\n",
    "        print(f\"{key}: {value}\")\n",
    "\n",
    "# Function call with *args and **kwargs\n",
    "describe_person(\"Tall\", \"Blue eyes\", name=\"Rob\", age=30, job=\"Engineer\")"
   ]
  },
  {
   "cell_type": "code",
   "execution_count": 27,
   "metadata": {},
   "outputs": [
    {
     "name": "stdout",
     "output_type": "stream",
     "text": [
      "Name: Rob\n",
      "Age: 30\n",
      "Attributes:\n",
      "- Tall\n",
      "- Blue eyes\n",
      "\n",
      "Details:\n",
      "job: Engineer\n"
     ]
    }
   ],
   "source": [
    "# Combining positional arguments, *args, and keyword arguments, **kwargs\n",
    "\n",
    "# Function definition with positional arguments, *args and **kwargs\n",
    "def describe_person(name, age, *args, **kwargs):\n",
    "    print(\"Name:\", name)\n",
    "    print(\"Age:\", age)\n",
    "    print(\"Attributes:\")\n",
    "    for arg in args:\n",
    "        print(f\"- {arg}\")\n",
    "    print(\"\\nDetails:\")\n",
    "    for key, value in kwargs.items():\n",
    "        print(f\"{key}: {value}\")\n",
    "        \n",
    "# Function call with positional arguments, *args, and keyword arguments, **kwargs\n",
    "describe_person(\"Rob\", 30, \"Tall\", \"Blue eyes\", job=\"Engineer\")"
   ]
  },
  {
   "cell_type": "markdown",
   "metadata": {},
   "source": [
    "### Iterable and Iterators in Python\n",
    "\n",
    "* Understanding iterators and iterables is fundamental to mastering Python's capabilities for looping and data manipulation.\n",
    "\n",
    "* These concepts are central to Python's for-loops and other collection-processing mechanisms."
   ]
  },
  {
   "cell_type": "markdown",
   "metadata": {},
   "source": [
    "### Iterable\n",
    "\n",
    "* An iterable is any Python object capable of returning its members one at a time, allowing it to be iterated over in a loop.\n",
    "\n",
    "* Examples: Lists, tuples, strings, dictionaries, and sets \n",
    "\n",
    "* An object is considered an iterable if it implements the __iter__() method, which returns an iterator."
   ]
  },
  {
   "cell_type": "code",
   "execution_count": 48,
   "metadata": {},
   "outputs": [],
   "source": [
    "# List is an iterable\n",
    "my_list = [1, 2, 3, 4, 5]\n",
    "\n",
    "# String is an iterable\n",
    "my_string = \"hello\"\n"
   ]
  },
  {
   "cell_type": "markdown",
   "metadata": {},
   "source": [
    "### Iterator\n",
    "\n",
    "* An iterator is an object representing a stream of data. \n",
    "\n",
    "* It returns one element at a time when you call the next() function on it.\n",
    "\n",
    "* Examples: Objects that implement both the __iter__() and __next__() methods are iterators.\n",
    "\n",
    "* An iterator keeps state and remembers where it is during iteration. When __next__() is called, the iterator returns the next item in the sequence.\n",
    "\n",
    "* If there are no further elements, then the method __next__() will raise an exception to StopIteration.\n",
    "\n",
    "* Every iterator is basically iterable but reverse may not be true."
   ]
  },
  {
   "cell_type": "code",
   "execution_count": 6,
   "metadata": {},
   "outputs": [
    {
     "name": "stdout",
     "output_type": "stream",
     "text": [
      "1\n",
      "2\n",
      "3\n",
      "4\n",
      "5\n"
     ]
    },
    {
     "ename": "StopIteration",
     "evalue": "",
     "output_type": "error",
     "traceback": [
      "\u001b[0;31m---------------------------------------------------------------------------\u001b[0m",
      "\u001b[0;31mStopIteration\u001b[0m                             Traceback (most recent call last)",
      "Cell \u001b[0;32mIn[6], line 11\u001b[0m\n\u001b[1;32m      9\u001b[0m \u001b[38;5;28mprint\u001b[39m(\u001b[38;5;28mnext\u001b[39m(iterator)) \n\u001b[1;32m     10\u001b[0m \u001b[38;5;28mprint\u001b[39m(\u001b[38;5;28mnext\u001b[39m(iterator)) \n\u001b[0;32m---> 11\u001b[0m \u001b[38;5;28mprint\u001b[39m(\u001b[38;5;28;43mnext\u001b[39;49m\u001b[43m(\u001b[49m\u001b[43miterator\u001b[49m\u001b[43m)\u001b[49m)  \u001b[38;5;66;03m# This will raise StopIteration error\u001b[39;00m\n",
      "\u001b[0;31mStopIteration\u001b[0m: "
     ]
    }
   ],
   "source": [
    "# Creating an iterator from an iterable\n",
    "my_list = [1, 2, 3, 4, 5]\n",
    "iterator = iter(my_list)   # iter() method is used to create an iterator from an iterable\n",
    "\n",
    "# Using next() to get items\n",
    "print(next(iterator)) \n",
    "print(next(iterator))  \n",
    "print(next(iterator)) \n",
    "print(next(iterator)) \n",
    "print(next(iterator)) \n",
    "print(next(iterator))  # This will raise StopIteration error"
   ]
  },
  {
   "cell_type": "code",
   "execution_count": 7,
   "metadata": {},
   "outputs": [
    {
     "name": "stdout",
     "output_type": "stream",
     "text": [
      "1\n",
      "2\n",
      "3\n",
      "4\n",
      "5\n"
     ]
    }
   ],
   "source": [
    "my_list = [1, 2, 3, 4, 5]\n",
    "iterator = iter(my_list)   # iter() method is used to create an iterator from an iterable\n",
    "\n",
    "# Using loops to get items\n",
    "# We can loop over iterators to get items\n",
    "for item in iterator:\n",
    "    print(item)"
   ]
  },
  {
   "cell_type": "markdown",
   "metadata": {},
   "source": [
    "### lambda Function in Python\n",
    "\n",
    "* Also known as anonymous function because it is unnamed function.\n",
    "\n",
    "* The are small, unnamed functions defined using the lambda keyword. \n",
    "\n",
    "* They are often used for short, simple operations and can be especially useful when passing functions as arguments to higher-order functions like map, filter, and reduce.\n",
    "\n",
    "* Syntax: \n",
    "\n",
    "        lambda arguments: expression\n",
    "\n",
    "* Syntax with conditional expression\n",
    "\n",
    "        lambda arguments: value_if_true if condition else value_if_false\n"
   ]
  },
  {
   "cell_type": "code",
   "execution_count": 40,
   "metadata": {},
   "outputs": [
    {
     "name": "stdout",
     "output_type": "stream",
     "text": [
      "8\n"
     ]
    }
   ],
   "source": [
    "# Regula function\n",
    "def add(x, y):\n",
    "    return x + y\n",
    "\n",
    "print(add(3, 5))  "
   ]
  },
  {
   "cell_type": "code",
   "execution_count": 42,
   "metadata": {},
   "outputs": [
    {
     "name": "stdout",
     "output_type": "stream",
     "text": [
      "8\n"
     ]
    }
   ],
   "source": [
    "# lambda function\n",
    "add = lambda x, y: x + y\n",
    "print(add(3, 5))"
   ]
  },
  {
   "cell_type": "code",
   "execution_count": 47,
   "metadata": {},
   "outputs": [
    {
     "name": "stdout",
     "output_type": "stream",
     "text": [
      "Even\n",
      "Odd\n"
     ]
    }
   ],
   "source": [
    "# lambda function with if-else\n",
    "check_even_odd = lambda x: \"Even\" if x % 2 == 0 else \"Odd\"\n",
    "\n",
    "print(check_even_odd(10)) \n",
    "print(check_even_odd(7))  \n"
   ]
  }
 ],
 "metadata": {
  "kernelspec": {
   "display_name": "Python 3",
   "language": "python",
   "name": "python3"
  },
  "language_info": {
   "codemirror_mode": {
    "name": "ipython",
    "version": 3
   },
   "file_extension": ".py",
   "mimetype": "text/x-python",
   "name": "python",
   "nbconvert_exporter": "python",
   "pygments_lexer": "ipython3",
   "version": "3.10.12"
  }
 },
 "nbformat": 4,
 "nbformat_minor": 2
}
